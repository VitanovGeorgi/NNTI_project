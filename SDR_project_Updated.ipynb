{
  "cells": [
    {
      "cell_type": "markdown",
      "id": "454e0124",
      "metadata": {
        "id": "454e0124"
      },
      "source": [
        "# Speaker-Independent Spoken Digit Recognition (xSDR)\n",
        "\n",
        "\n",
        "One of the successful stories of deep neural networks is the proliferation of commercial of automatic speech recognition (ASR) systems. This project aims to explore one application of ML-powered ASR to the problem of spoken digit recognition (SDR). Since digits are widely used as unique identifiers for bank information, social security numbers, post codes, etc, SDR systems can be an efficient alternative to fully-fledged ASR systems since the domain is more predictable than other applications of ASR. \n",
        "\n",
        "In this project, we focus on developing a SDR system in a speaker-independent setting. That is, the speakers in the evaluation set are disjoint from the training set speakers. We do so because we expect real-world ASR systems to generalize to different speakers than those we have data for. Moreover, for many languages that are under-resourced, we have have (limited) annotated speech data from a single speaker, but we would still want the system to be deployed to work on any speaker of that language. We tackle the problem of spoken digit recognition as a sequence classification task. Concretely, the inputs are short audio clips of a specific digit (in the range 0-9), then the goal is to build deep neural network models to classify a short audio clip and predict the digit that was spoken."
      ]
    },
    {
      "cell_type": "markdown",
      "id": "7a9c96b1",
      "metadata": {
        "id": "7a9c96b1"
      },
      "source": []
    },
    {
      "cell_type": "markdown",
      "id": "be83711d-f753-44e7-9521-8881623b9521",
      "metadata": {
        "id": "be83711d-f753-44e7-9521-8881623b9521"
      },
      "source": [
        "# Notes\n",
        "\n",
        "## Code Submission\n",
        "\n",
        "You don't necessarily need to complete the code in this Jupyter Notebook, you are free to use another notebook or a python script file, as you would like. You are expected to submit the code by **22.03.2023**.\n",
        "\n",
        "Your code should be clean and well commented. We also expect that if we decide to run it on our system, it should be straighforward to do so. We recommend creating a ```requirements.txt``` file with the names of all the libraries with their versions. If applicable, please mention the python version in a ```README.md``` file, which should also include instructions on how to run your code.\n",
        "\n",
        "As mentioned for the assignments, always remember to cite the code with the links as comments, if you decide to use it from a public repository.\n",
        "\n",
        "## Report Submission\n",
        "\n",
        "With the code, you are also expected to submit a report with a maximum of 4 pages. You should write your report in LaTeX using this template for ACL 2023 [Overleaf Link](https://www.overleaf.com/latex/templates/acl-2023-proceedings-template/qjdgcrdwcnwp). Use this document to fill in any missing information that are not necessarily covered during your presentation for the sake of time in the presentation. While writing your report, we would highly encourgae you to cite the papers behind each tool / library / function that you might use for your experiments. We have also released an example on how to write equations in LaTeX [here](https://piazza.com/class/l9so16qqvk34hu/post/52).\n",
        "\n",
        "You art also expected to submit this report with your code. You should provide the **.tex, .pdf and all image files** zipped with the same naming convention as it was in your assignment(s).\n",
        "\n",
        "## Presentation\n",
        "\n",
        "During the last week of March 2023, i.e. 27.03 -- 31.03, each team will be presenting their works for 15 minutes. We expect equal contribution from each member in delivery and content of the presentation. So roughly 5 minutes for one person, if you have 3 people in your team. There will be 5 minutes for some Q&A. At-least one person from your team should be present to do an in-person presentation, rest of your team could join remotely, if they are not present.\n",
        "\n",
        "## Important Dates\n",
        "\n",
        " - Code & Report Submission: 22.03.2023 (08.00)\n",
        " - Presentation: 27.03.2023 -- 31.03.2023\n",
        " \n",
        " You'll get a precise date and time for your team's presentation at a later time."
      ]
    },
    {
      "cell_type": "markdown",
      "id": "61601679-f2f0-437a-8233-54c5ab0cac17",
      "metadata": {
        "id": "61601679-f2f0-437a-8233-54c5ab0cac17"
      },
      "source": [
        "### Grading\n",
        "\n",
        "In this project, your final grades will be determined as follows:\n",
        "\n",
        " - **30%**: &emsp; Completing all the tasks\n",
        " - **30%**: &emsp; Providing scientific-backings for all the methods used\n",
        " - **20%**: &emsp; Quality of the content of the presentation\n",
        " - **20%**: &emsp; Delivery of the presentation"
      ]
    },
    {
      "cell_type": "code",
      "execution_count": 1,
      "id": "020b704f",
      "metadata": {
        "id": "020b704f"
      },
      "outputs": [],
      "source": [
        "#%matplotlib inline\n",
        "import numpy as np\n",
        "import scipy, matplotlib.pyplot as plt, IPython.display as ipd\n",
        "import librosa, librosa.display\n",
        "\n",
        "import pandas as pd\n",
        "\n",
        "from sklearn  import preprocessing\n",
        "\n",
        "\n",
        "from collections import defaultdict, Counter\n",
        "\n",
        "# add this to ignore warnings from Librosa\n",
        "import warnings\n",
        "warnings.filterwarnings('ignore')\n",
        "\n",
        "import random"
      ]
    },
    {
      "cell_type": "code",
      "execution_count": 2,
      "id": "2b2719f5",
      "metadata": {
        "id": "2b2719f5"
      },
      "outputs": [],
      "source": [
        "# for linear models \n",
        "from sklearn.linear_model import SGDClassifier\n",
        "from sklearn.preprocessing import StandardScaler\n",
        "from sklearn.metrics import accuracy_score\n",
        "# from sklearn.metrics import plot_confusion_matrix\n",
        "from sklearn.metrics import classification_report\n",
        "from sklearn.metrics import confusion_matrix, precision_score, recall_score, f1_score"
      ]
    },
    {
      "cell_type": "code",
      "execution_count": 3,
      "id": "f70e4098",
      "metadata": {
        "id": "f70e4098"
      },
      "outputs": [],
      "source": [
        "from sklearn.neural_network import MLPClassifier"
      ]
    },
    {
      "cell_type": "markdown",
      "id": "6a0a0884",
      "metadata": {
        "id": "6a0a0884"
      },
      "source": [
        "## Exploring the Dataset \n",
        "\n",
        "The speech samples are already divied into training, development, and test spilts. The splits are made in such way that evaluation speakers are not present in training split. You should use the splits as they are. \n",
        "\n",
        "**CAUTION:** \n",
        "\n",
        "In this project, you are not allowed to use any external data for this problem (at least for the main three tasks). Exploring the effect of additional datasets in this project can only included as a further step after completing the main requirements with the given data. "
      ]
    },
    {
      "cell_type": "code",
      "execution_count": 7,
      "id": "c40503e1",
      "metadata": {
        "colab": {
          "base_uri": "https://localhost:8080/"
        },
        "id": "c40503e1",
        "outputId": "f5389016-e37d-401c-ba96-8eec4e0f3d82"
      },
      "outputs": [
        {
          "output_type": "stream",
          "name": "stdout",
          "text": [
            "Drive already mounted at /content/drive; to attempt to forcibly remount, call drive.mount(\"/content/drive\", force_remount=True).\n"
          ]
        }
      ],
      "source": [
        "# read tsv file into a dataframe \n",
        "from google.colab import drive \n",
        "drive.mount('/content/drive')\n",
        "path = \"/content/drive/MyDrive/\"\n",
        "sdr_df = pd.read_csv(path + 'SDR_metadata.tsv', sep='\\t', header=0, index_col='Unnamed: 0')"
      ]
    },
    {
      "cell_type": "code",
      "execution_count": 8,
      "id": "b9a087bc",
      "metadata": {
        "colab": {
          "base_uri": "https://localhost:8080/",
          "height": 206
        },
        "id": "b9a087bc",
        "outputId": "ae7561f0-8934-4c27-a195-cf6ef506ad2a"
      },
      "outputs": [
        {
          "output_type": "execute_result",
          "data": {
            "text/plain": [
              "      identifier   speaker  split  label                           file\n",
              "0      5_theo_23      theo  TRAIN      5      speech_data/5_theo_23.wav\n",
              "1  2_yweweler_39  yweweler   TEST      2  speech_data/2_yweweler_39.wav\n",
              "2  6_yweweler_34  yweweler    DEV      6  speech_data/6_yweweler_34.wav\n",
              "3  6_yweweler_16  yweweler    DEV      6  speech_data/6_yweweler_16.wav\n",
              "4   9_yweweler_2  yweweler   TEST      9   speech_data/9_yweweler_2.wav"
            ],
            "text/html": [
              "\n",
              "  <div id=\"df-69d4971c-c1de-4335-bcc1-1a3de7c6e2ef\">\n",
              "    <div class=\"colab-df-container\">\n",
              "      <div>\n",
              "<style scoped>\n",
              "    .dataframe tbody tr th:only-of-type {\n",
              "        vertical-align: middle;\n",
              "    }\n",
              "\n",
              "    .dataframe tbody tr th {\n",
              "        vertical-align: top;\n",
              "    }\n",
              "\n",
              "    .dataframe thead th {\n",
              "        text-align: right;\n",
              "    }\n",
              "</style>\n",
              "<table border=\"1\" class=\"dataframe\">\n",
              "  <thead>\n",
              "    <tr style=\"text-align: right;\">\n",
              "      <th></th>\n",
              "      <th>identifier</th>\n",
              "      <th>speaker</th>\n",
              "      <th>split</th>\n",
              "      <th>label</th>\n",
              "      <th>file</th>\n",
              "    </tr>\n",
              "  </thead>\n",
              "  <tbody>\n",
              "    <tr>\n",
              "      <th>0</th>\n",
              "      <td>5_theo_23</td>\n",
              "      <td>theo</td>\n",
              "      <td>TRAIN</td>\n",
              "      <td>5</td>\n",
              "      <td>speech_data/5_theo_23.wav</td>\n",
              "    </tr>\n",
              "    <tr>\n",
              "      <th>1</th>\n",
              "      <td>2_yweweler_39</td>\n",
              "      <td>yweweler</td>\n",
              "      <td>TEST</td>\n",
              "      <td>2</td>\n",
              "      <td>speech_data/2_yweweler_39.wav</td>\n",
              "    </tr>\n",
              "    <tr>\n",
              "      <th>2</th>\n",
              "      <td>6_yweweler_34</td>\n",
              "      <td>yweweler</td>\n",
              "      <td>DEV</td>\n",
              "      <td>6</td>\n",
              "      <td>speech_data/6_yweweler_34.wav</td>\n",
              "    </tr>\n",
              "    <tr>\n",
              "      <th>3</th>\n",
              "      <td>6_yweweler_16</td>\n",
              "      <td>yweweler</td>\n",
              "      <td>DEV</td>\n",
              "      <td>6</td>\n",
              "      <td>speech_data/6_yweweler_16.wav</td>\n",
              "    </tr>\n",
              "    <tr>\n",
              "      <th>4</th>\n",
              "      <td>9_yweweler_2</td>\n",
              "      <td>yweweler</td>\n",
              "      <td>TEST</td>\n",
              "      <td>9</td>\n",
              "      <td>speech_data/9_yweweler_2.wav</td>\n",
              "    </tr>\n",
              "  </tbody>\n",
              "</table>\n",
              "</div>\n",
              "      <button class=\"colab-df-convert\" onclick=\"convertToInteractive('df-69d4971c-c1de-4335-bcc1-1a3de7c6e2ef')\"\n",
              "              title=\"Convert this dataframe to an interactive table.\"\n",
              "              style=\"display:none;\">\n",
              "        \n",
              "  <svg xmlns=\"http://www.w3.org/2000/svg\" height=\"24px\"viewBox=\"0 0 24 24\"\n",
              "       width=\"24px\">\n",
              "    <path d=\"M0 0h24v24H0V0z\" fill=\"none\"/>\n",
              "    <path d=\"M18.56 5.44l.94 2.06.94-2.06 2.06-.94-2.06-.94-.94-2.06-.94 2.06-2.06.94zm-11 1L8.5 8.5l.94-2.06 2.06-.94-2.06-.94L8.5 2.5l-.94 2.06-2.06.94zm10 10l.94 2.06.94-2.06 2.06-.94-2.06-.94-.94-2.06-.94 2.06-2.06.94z\"/><path d=\"M17.41 7.96l-1.37-1.37c-.4-.4-.92-.59-1.43-.59-.52 0-1.04.2-1.43.59L10.3 9.45l-7.72 7.72c-.78.78-.78 2.05 0 2.83L4 21.41c.39.39.9.59 1.41.59.51 0 1.02-.2 1.41-.59l7.78-7.78 2.81-2.81c.8-.78.8-2.07 0-2.86zM5.41 20L4 18.59l7.72-7.72 1.47 1.35L5.41 20z\"/>\n",
              "  </svg>\n",
              "      </button>\n",
              "      \n",
              "  <style>\n",
              "    .colab-df-container {\n",
              "      display:flex;\n",
              "      flex-wrap:wrap;\n",
              "      gap: 12px;\n",
              "    }\n",
              "\n",
              "    .colab-df-convert {\n",
              "      background-color: #E8F0FE;\n",
              "      border: none;\n",
              "      border-radius: 50%;\n",
              "      cursor: pointer;\n",
              "      display: none;\n",
              "      fill: #1967D2;\n",
              "      height: 32px;\n",
              "      padding: 0 0 0 0;\n",
              "      width: 32px;\n",
              "    }\n",
              "\n",
              "    .colab-df-convert:hover {\n",
              "      background-color: #E2EBFA;\n",
              "      box-shadow: 0px 1px 2px rgba(60, 64, 67, 0.3), 0px 1px 3px 1px rgba(60, 64, 67, 0.15);\n",
              "      fill: #174EA6;\n",
              "    }\n",
              "\n",
              "    [theme=dark] .colab-df-convert {\n",
              "      background-color: #3B4455;\n",
              "      fill: #D2E3FC;\n",
              "    }\n",
              "\n",
              "    [theme=dark] .colab-df-convert:hover {\n",
              "      background-color: #434B5C;\n",
              "      box-shadow: 0px 1px 3px 1px rgba(0, 0, 0, 0.15);\n",
              "      filter: drop-shadow(0px 1px 2px rgba(0, 0, 0, 0.3));\n",
              "      fill: #FFFFFF;\n",
              "    }\n",
              "  </style>\n",
              "\n",
              "      <script>\n",
              "        const buttonEl =\n",
              "          document.querySelector('#df-69d4971c-c1de-4335-bcc1-1a3de7c6e2ef button.colab-df-convert');\n",
              "        buttonEl.style.display =\n",
              "          google.colab.kernel.accessAllowed ? 'block' : 'none';\n",
              "\n",
              "        async function convertToInteractive(key) {\n",
              "          const element = document.querySelector('#df-69d4971c-c1de-4335-bcc1-1a3de7c6e2ef');\n",
              "          const dataTable =\n",
              "            await google.colab.kernel.invokeFunction('convertToInteractive',\n",
              "                                                     [key], {});\n",
              "          if (!dataTable) return;\n",
              "\n",
              "          const docLinkHtml = 'Like what you see? Visit the ' +\n",
              "            '<a target=\"_blank\" href=https://colab.research.google.com/notebooks/data_table.ipynb>data table notebook</a>'\n",
              "            + ' to learn more about interactive tables.';\n",
              "          element.innerHTML = '';\n",
              "          dataTable['output_type'] = 'display_data';\n",
              "          await google.colab.output.renderOutput(dataTable, element);\n",
              "          const docLink = document.createElement('div');\n",
              "          docLink.innerHTML = docLinkHtml;\n",
              "          element.appendChild(docLink);\n",
              "        }\n",
              "      </script>\n",
              "    </div>\n",
              "  </div>\n",
              "  "
            ]
          },
          "metadata": {},
          "execution_count": 8
        }
      ],
      "source": [
        "sdr_df.head()"
      ]
    },
    {
      "cell_type": "code",
      "execution_count": null,
      "id": "4c34786a",
      "metadata": {
        "id": "4c34786a"
      },
      "outputs": [],
      "source": [
        "set(sdr_df.speaker.values)"
      ]
    },
    {
      "cell_type": "code",
      "execution_count": 10,
      "id": "155ea375",
      "metadata": {
        "colab": {
          "base_uri": "https://localhost:8080/",
          "height": 81
        },
        "id": "155ea375",
        "outputId": "1ce6ba07-49a4-4c4f-f80c-273280dbc486"
      },
      "outputs": [
        {
          "output_type": "execute_result",
          "data": {
            "text/plain": [
              "    identifier speaker  split  label                      file\n",
              "700   7_theo_0    theo  TRAIN      7  speech_data/7_theo_0.wav"
            ],
            "text/html": [
              "\n",
              "  <div id=\"df-ce63723e-5428-4b01-9dc1-aa39d753f788\">\n",
              "    <div class=\"colab-df-container\">\n",
              "      <div>\n",
              "<style scoped>\n",
              "    .dataframe tbody tr th:only-of-type {\n",
              "        vertical-align: middle;\n",
              "    }\n",
              "\n",
              "    .dataframe tbody tr th {\n",
              "        vertical-align: top;\n",
              "    }\n",
              "\n",
              "    .dataframe thead th {\n",
              "        text-align: right;\n",
              "    }\n",
              "</style>\n",
              "<table border=\"1\" class=\"dataframe\">\n",
              "  <thead>\n",
              "    <tr style=\"text-align: right;\">\n",
              "      <th></th>\n",
              "      <th>identifier</th>\n",
              "      <th>speaker</th>\n",
              "      <th>split</th>\n",
              "      <th>label</th>\n",
              "      <th>file</th>\n",
              "    </tr>\n",
              "  </thead>\n",
              "  <tbody>\n",
              "    <tr>\n",
              "      <th>700</th>\n",
              "      <td>7_theo_0</td>\n",
              "      <td>theo</td>\n",
              "      <td>TRAIN</td>\n",
              "      <td>7</td>\n",
              "      <td>speech_data/7_theo_0.wav</td>\n",
              "    </tr>\n",
              "  </tbody>\n",
              "</table>\n",
              "</div>\n",
              "      <button class=\"colab-df-convert\" onclick=\"convertToInteractive('df-ce63723e-5428-4b01-9dc1-aa39d753f788')\"\n",
              "              title=\"Convert this dataframe to an interactive table.\"\n",
              "              style=\"display:none;\">\n",
              "        \n",
              "  <svg xmlns=\"http://www.w3.org/2000/svg\" height=\"24px\"viewBox=\"0 0 24 24\"\n",
              "       width=\"24px\">\n",
              "    <path d=\"M0 0h24v24H0V0z\" fill=\"none\"/>\n",
              "    <path d=\"M18.56 5.44l.94 2.06.94-2.06 2.06-.94-2.06-.94-.94-2.06-.94 2.06-2.06.94zm-11 1L8.5 8.5l.94-2.06 2.06-.94-2.06-.94L8.5 2.5l-.94 2.06-2.06.94zm10 10l.94 2.06.94-2.06 2.06-.94-2.06-.94-.94-2.06-.94 2.06-2.06.94z\"/><path d=\"M17.41 7.96l-1.37-1.37c-.4-.4-.92-.59-1.43-.59-.52 0-1.04.2-1.43.59L10.3 9.45l-7.72 7.72c-.78.78-.78 2.05 0 2.83L4 21.41c.39.39.9.59 1.41.59.51 0 1.02-.2 1.41-.59l7.78-7.78 2.81-2.81c.8-.78.8-2.07 0-2.86zM5.41 20L4 18.59l7.72-7.72 1.47 1.35L5.41 20z\"/>\n",
              "  </svg>\n",
              "      </button>\n",
              "      \n",
              "  <style>\n",
              "    .colab-df-container {\n",
              "      display:flex;\n",
              "      flex-wrap:wrap;\n",
              "      gap: 12px;\n",
              "    }\n",
              "\n",
              "    .colab-df-convert {\n",
              "      background-color: #E8F0FE;\n",
              "      border: none;\n",
              "      border-radius: 50%;\n",
              "      cursor: pointer;\n",
              "      display: none;\n",
              "      fill: #1967D2;\n",
              "      height: 32px;\n",
              "      padding: 0 0 0 0;\n",
              "      width: 32px;\n",
              "    }\n",
              "\n",
              "    .colab-df-convert:hover {\n",
              "      background-color: #E2EBFA;\n",
              "      box-shadow: 0px 1px 2px rgba(60, 64, 67, 0.3), 0px 1px 3px 1px rgba(60, 64, 67, 0.15);\n",
              "      fill: #174EA6;\n",
              "    }\n",
              "\n",
              "    [theme=dark] .colab-df-convert {\n",
              "      background-color: #3B4455;\n",
              "      fill: #D2E3FC;\n",
              "    }\n",
              "\n",
              "    [theme=dark] .colab-df-convert:hover {\n",
              "      background-color: #434B5C;\n",
              "      box-shadow: 0px 1px 3px 1px rgba(0, 0, 0, 0.15);\n",
              "      filter: drop-shadow(0px 1px 2px rgba(0, 0, 0, 0.3));\n",
              "      fill: #FFFFFF;\n",
              "    }\n",
              "  </style>\n",
              "\n",
              "      <script>\n",
              "        const buttonEl =\n",
              "          document.querySelector('#df-ce63723e-5428-4b01-9dc1-aa39d753f788 button.colab-df-convert');\n",
              "        buttonEl.style.display =\n",
              "          google.colab.kernel.accessAllowed ? 'block' : 'none';\n",
              "\n",
              "        async function convertToInteractive(key) {\n",
              "          const element = document.querySelector('#df-ce63723e-5428-4b01-9dc1-aa39d753f788');\n",
              "          const dataTable =\n",
              "            await google.colab.kernel.invokeFunction('convertToInteractive',\n",
              "                                                     [key], {});\n",
              "          if (!dataTable) return;\n",
              "\n",
              "          const docLinkHtml = 'Like what you see? Visit the ' +\n",
              "            '<a target=\"_blank\" href=https://colab.research.google.com/notebooks/data_table.ipynb>data table notebook</a>'\n",
              "            + ' to learn more about interactive tables.';\n",
              "          element.innerHTML = '';\n",
              "          dataTable['output_type'] = 'display_data';\n",
              "          await google.colab.output.renderOutput(dataTable, element);\n",
              "          const docLink = document.createElement('div');\n",
              "          docLink.innerHTML = docLinkHtml;\n",
              "          element.appendChild(docLink);\n",
              "        }\n",
              "      </script>\n",
              "    </div>\n",
              "  </div>\n",
              "  "
            ]
          },
          "metadata": {},
          "execution_count": 10
        }
      ],
      "source": [
        "# explore one sample: 7_theo_0\n",
        "sdr_df.loc[sdr_df['identifier'] == '7_theo_0']"
      ]
    },
    {
      "cell_type": "code",
      "execution_count": 11,
      "id": "e03e0920",
      "metadata": {
        "id": "e03e0920"
      },
      "outputs": [],
      "source": [
        "sample_wav_file = sdr_df.loc[sdr_df['identifier'] == '7_theo_0'].file[700]"
      ]
    },
    {
      "cell_type": "markdown",
      "id": "6ab5f7e7",
      "metadata": {
        "id": "6ab5f7e7"
      },
      "source": [
        "## The Speech Waveform\n",
        "\n",
        "The acoustic realization of speech segment can be (digitally) viewed as a time-variant wavform $\\mathbf{S} \\in \\mathbb{R}^{n}$. Here, $n$ depends on both the duration of the speech segment and the sampling rate of the continous speech singal. Let's check out one sample from the data set. "
      ]
    },
    {
      "cell_type": "code",
      "execution_count": 12,
      "id": "ac93353b",
      "metadata": {
        "colab": {
          "base_uri": "https://localhost:8080/",
          "height": 76
        },
        "id": "ac93353b",
        "outputId": "dfc81d62-03e4-45a3-f0a8-e10a9b79c92f"
      },
      "outputs": [
        {
          "output_type": "execute_result",
          "data": {
            "text/plain": [
              "<IPython.lib.display.Audio object>"
            ],
            "text/html": [
              "\n",
              "                <audio  controls=\"controls\" >\n",
              "                    <source src=\"data:audio/wav;base64,UklGRuwaAABXQVZFZm10IBAAAAABAAEAQB8AAIA+AAACABAAZGF0YcgaAAADBv35qALO+/ACRwC5/6gCWP2tAcn8Tf/WAKX8uf/n/XH/ZgGl/BkCC/4G/wAA+gDO+38DpfwOBHz9GQK+/l38NwOB/PACfP3RASMAXfxWBP35jQfu9VQLWvbpCs77AAD+Boj0qg+E7jQRN+/ODyfyaA4S9rEHlf9j+5wLo+8gDrzxTwwS9soJjfNKDVvvMAvz9FYEjwDO+yIH/vKRDS3x9w4n8hsPCfGRDV/1HQiq+9YAEwP9+cUKZPRKDdXzMAus9HgLRvOMDg33nAs/+0IBbwa6+OkKVPfpCh30Sg1k9KEKxfaTBqr7RwDGA3P4bwbO+1AFvv4ZAi/+1QdY/bwF+gD6ALYGwPeNB5H5CQW5/4kBeQQb+zsJxfZLBrX5fwNHADT9+Qe1+QMG6gPO+y0FJvngBbD66gOH+xkCBv+g/bEHofZUC8r1Xwm6+PACvv5rAB4BC/7lBCb5sQeX+E8MT/hQBTwCnPehCjD3iAgN92AClf+H++UEBv+tAXf+UAUm+RcJSvlvBlj9RwDBBPL7Rgc6/OAF/fmNBxv7sQd3/gAAqAJd/FsDG/sOBHf+rQH1Aef9uf/RAd3/fwPT+uoDoP3wAkcA0/o3A9P6CQWq+2AC9QFT/vUBWP3GA77+LQXE/bn/QgEq/3kE7fyoAqD95/1CAVj9YALRAQv+GQJY/XQFWP0JBfoAawDqA5X/lf8jANn5YAI/+6gCWP0W/CcG2fmDCf35CQUb+60BKv+a/l38ZgHn/a0BEP3T+swCSvm8BSv4sQdo+rEHyfyjA2P7owP3+tYAzAKR+R0IB/j+BnP4sQc/+7YGtfm8Bcn8lf+tAV38CQXJ/OAF9/q8BXP4JwYg+qMD4v68Bef99QGg/foAHgH1AeL+WP1bA/L7SwY29h0IMPesCE/4Ownp9kAIwPe2Bvf6AADlBJH5HQhU940HjPrqAxv7MgT3+v4G3vgDBg33VAsw9x0IAvmjA/L7dAXqA/35VAt99l8JnPdpB3j3rAiw+vkHl/gNC8X2kwaR+VAFWP3VB3f+IwB5BN742gam9QsSAOx3Ej3upRBW8NAIKv+m9XETbOWyG4bnyRDp9g4E/gbw7rQUpOh3EjLw+QeoAnj3aA7a8kAIoP3E/cEEyfyTBnH/U/5aCifySg1W8AsS5fB4C6X8uf+WDLPsOBeW5KkWTOu1DR30kwbO+yr/CQVk9JwLavN4C9ryVAtP+FYEL/7WADT9mAWD9ScGDfdLBiD6+gDgBSLzJg0n8l8JbfnKCZz3owM8Auf9lf9N/3z9NP3VB/35vAUb+2YBcf+JAY8ABv/d/03/AADy+wMG0/p0BQAANP2JAeL+5/3n/bEHh/uTBhv7oQqq+2sAiQF490AIIPraBof7iQEQ/WsAuf8AAPUBnQR3/h4Bcf+jA3f+4v4G/6D9FvwG/50EJvk8Ahb8zALZ+UsGwPcDBjr8hAJmAXf+Fwmh9g0LxfblBFYET/isCBf1kQ3g8ScGZgGR+bUNiPTODxPvpRC28mgOC/6V/9UH8/TZDYntOhDA9+UEPAKJAdEBlf/RAXj3HgF5BF38vAVK+cEEsPpN/7YGJvn5B2j6wQR3/kYHDfciB9P6oP1gAkcA5QRY/c77JwZK+aMD3f80/doGpvX5B4P1xQqm9cYDd/6B/OAFnPeICBL2QAgr+N3/WwMN94MJ/vKICET6IwC8Bd74IgfA90QOF/WMDk/42ga+/voAGQJE+qMDJvngBbr4nAvB8D8PUPFKDdP6iQHMAl38SwaR+WkHJvl5BIz6JwaN818JxfaDCSD6mAXMAof7MgQb+wkFOvy2BgL5WwM/+/ACEP03A3kElf+dBMT93f+PAAv+IwBT/kIBWwP6AEIB5/2tAcn8dAV8/fUBGQLt/CMAL/7wAhD9iAiV/yr/fwPd/48AkfnaBi/+9QFQBV38eQTi/jcD8vs3A/UBzALWAFP+3f8q/93/0QE6/J0EKv+g/cEEaPprAE3/jwAv/h4BOvzqA7X5qAI0/TIE1gAG/4kBC/5/A5H5HQjF9pMGY/t3/n8DAvmJAUcAqALd/03/vv6zAN3/GQJrADr83f/d/+L++gBT/sEEAACV/wAAuf8ZAgv+QgE3Azr8PAIv/voA4v6B/N3/pfzn/cT9xP18/QAAXfwDBsT91gCa/voAiQHi/uoDP/vlBBb8IwAeAZX/RwDRAXH/mv71ASr/lf/6APoA+gBx/2YBrQFY/fACswB8/eoDFvxgAh4BC/6dBMn8Igc6/NEBGQLd/wMGC/6dBPL7eQRmAfL7eQQ0/eAF9/p/A5gFC/55BGYBUAXn/S0FnQS+/jwCWwML/o8AC/7WAL7+WP25/03/PAKtAb7+5QQL/qr7PAKV/60BWwPi/nf+nQQ/+38DxP0v/rMAd/5CAZr++gA/+38DU/6oAi/+QgH1AbX5vAVK+fUBxP0v/hMD5/2tAVj9aQf6AGj6wQSg/RkCcf9mAQAAY/sDBi/+4v4v/o8A+gD1ARD9xgOV/3z9PAJT/swCRwDWAFsDOvw3A8wCmv6oAnf+QgE8Ajr8VgSl/PoAvv7i/jIEjwCtASr/6gOV/5r+RPp9Cpz3/gbt/PUBlf+zAB4Bh/uNB2P7HQje+HQFtfnqA48APAIZAnQF3f9T/p0Emv7GA7X5LQWs9PMIAvkyBBb8+gAG/xb8wQQH+NUH2flkCG35AwYQ/agCOvwyBFj9swD+Blr27glE+q0BKv9N/48A4v4TA2sAjwDlBOf9RwCV//UBAABx/xD9swAeAY8Alf9rADwCWP0JBTT95/2w+uoDkfmjA2P7vv43Awv+eQQ6/GACTf90BdP6GQJo+msABv/T+h4BjPpvBqX81gAq/wv+nQQW/DIEqvsTA60BNP2tAXf+hAKM+pX/HgGg/fUB1gCg/Zr+QgGtAVP+hALn/fUBxP1CAXH/NP1gAqr7jwD3+msAGQI3AxkCP/tQBcn8nQTd/yMA5QQb+38Dlf8ZAnH/lf/6AOoDL/7RAaX8Bv8L/tn5EwMW/FsDL/5rAGsAeQSPACMAMgSg/cYDSvmoAlP+0/o8Agv+rQFmAYkBlf+EAjwC0QF/A2YBEwO5/yMAxP0v/u38Bv+V/4kBmv5mAXkEd/4q/xkCvv71AZr+C/6PAE3/xgOa/qMD4v48AkIBQgGV/77+0QEjAMYDTf+5/2ACHgHwAokBlf/E/U3/Kv/n/WsAjwCJAUcAiQHRAbMAHgE8AiMAvv40/R4B8AJ8/ZX/awBx/5r++gCl/AAAKv/i/voABv+5/+38QgHE/eL+RwAeAeL+1gAAAN3/swCa/qD97fyV/77+uf/n/VP+cf8jAL7+1gBgAvACqAL6ABkC3f+zAHH/mv6a/lsD1gAG/2YBjwAeATcD+gBrAN3/AABrANYAGQL6AJX/swBx/x4BPAL1AdEB9QEZAswCGQIZAir/Bv++/of7aPrQ9OrvhO4O8A7w4PGD9U/4yfyzAK0BrQGmCTAL7gkdCCIHDgSICDYKwQTgBdAItgYnBlsD5/3d/xMDawB3/g4EUAVUCzoQoBE0EeYYURlTEi8SNgpLBjcDIPrc683nId+Y1vXSf9QE17vdH+bc63TxjfPM7rPsnfA79az08/RbA9AIkBS2IWkiJyFUJoYqURkLEoMJd/5K+SD6avPp9ksG/Q3aIVlAZFI+RWo25yzvHRIKnfC81lbVh+Ac4HPdguHT5q3tXuFizC3WP+Bl2SfDdbt+wIvLMtXF2wPyahujMihk/3+GWZRJ0kR4JrMA0+b7tjurxsBZx07JVvALEv81d1yKX4RMNFuEZ64wxQqL5t7J3slYzi+03smR+RYQwR+fLAMhcidCMG8GTNdXutqoSZufn+CMkpQjvZbkYO7iEiI2A1AdZh56unH9PHIn8AIR4g7BfLMypmq9/d6h9gAUOziIUpRkLGp5TlZOV0fNFi/jzsyJvsXH4s8F0K/mGhYuLU4nvyYtGecRhAJ7ztmU35M7q2ecPp2VtVTI0PSAF2Admi3uU01dNW+rbZotFwny+yzderpsts6xVcHp9kAIihVVOiZXEFvDW3xAihWCJIcjXOj3ywvP1djq75f4Qu3pCts1hTHfIHwRWwNT/rby8rHMiS6gl67FrKerzbiX3V0QOwn+BisnJ1CkRi1jlGQYHaQXOwks3bvCAcqpuDnNBv8jAFMSpT/WSo9KplPVNj8PFBcfFTb2qO7t4aDi7fxfCVT3WgoIIP8aJBQXCbbyN+9Q8RHH8Z22lO2yTLxTtE21a9Fa9gkFpgnTDuwruEk7Uxt0HD7nES8S8/So02q9iMXvvzv1/Q1DFSkuQFJPVg5O2TzZDcwCnfCs9B4Bo+8u6lAFJBSVE5AUoBGcC9cUnQRc6CXlcOvF2+zNfaxgpI6948gYvw7BFuFW8KD9NP3QCCsnn0exUXdw0kSUGukKk/Jdzc24p78xwdryBwydHw4zK1ZoWBdTVToqEwL5M+nt4TLwBv+R+Z0E2xrkH4UWzRYOBC0F3f8d9Bzg0+b93mHTELNHonW7JNHYyjXHsN8y8Nn5LfF/A+gl4Uj/ScN2nU70HPIPLfGbyDi51MS3vKPvmhLvHfk2IFjuU6NNnDqRDSPs7eFVwUHZmhLRHKUQgiSuMEkoXiQW/OjiavP9+Tzal90z6eHq+uyj1He0HMV2z8bASNE222jLottCARMDWh7/SVdHBXhHZWobc/if6a7SxLM3wNe2I+ySIf81vDTjVZVdzEzZPLMA9NmK0ujHy7/E/agxtCi8NGM+hir4ItMOpuHb1z3uQ+ak6Bv7C/7K9Tb2zszEs43EXsZqvarM1dhC0k/d0QH2FeEtd0EIOyFsLkh9CpDlx9TeyTvGf9RI0YQCUTR2SPFF6k2PSvQ3LCD25sXHZMVtysrG+fN7RylJU0ElQ64wZRw6EMnhysYl5SfyJ/IZAo0HBv88Al7hsr2FuB+3vbsuu+7Gm8iw3wPyyvUfFZ4zvi1jPuRpwyw0/R30JeX/13Lk0+aQ5bIbOzijMnU0yzgMJkEc7gkx3IrSrNkZ0+DWl/hbTeZi2lBLNd8ggBd5BIPaI73A3IQCsA66DCYNCxIaFrby5rpCo7K94rSxqTelYbhI0VvvpvVvBuQfajaHPiBYoFtBHLEHT/jw7j/gEOnP4Db21huGKqEllS6oMcokpx3GAx/m6dtu3rjQVdwN92M+QWYwVU0u4yYTHicGw+lx0OvUHgFlHA0LNwNzDCYNa+x0wsSY2qiHsQu0zrE/scPOzvta9rHzURlkIz0x4DTDWzs4shvTDmj6E+/w7sbvNeLn/dIVtiHuJN4nsSJaHnAaEP2/4ybexdvy4DPpEwObJghqRHPfO8EfKBpvBpnq29cwyFfpkBQKGU3/mAU2CmT0Xc1Qp+yed7SFuO2yaLC81o/sJvk0/VAF0w7+IWYwsjaNUX8ypBdfCXMM8/Tg8bjrSeWI9FgROBdIFDwdpiS3Grc1Kyd53AnWqed34zbbX/XWAJI813kdZichpBcvEkbzEeLr1GvRpfz0HGQICQVYEYgIj+zg1me3Ybj7tuK097C2w0HZqed58GsAswB5BFoeISI9FqUrR0o+KrUNFwnwAuXwnPct8WfmRPqQFMIYfh5OJzceDxgkFK0Bre1i50nlXuEZ7qD9RA56M7NeB1YDId0T0AiX+NzryOjj48EEvyYxH18JSwYg+pLew85bwPew7qugs8u/69R+2zPpxu8/+6MD4wtpB1oKsA7RHDY5ijAPGPkHKwxkCFAFjPra8nj3aA7SFckQFhAWEMkQ7RDKCQ330e3R7X/v3OvV8wb/7RBWM81Fs0qWQs8jdAXi/gf4TOu28kIBhw9+Hu8dWgre+DPp08uQtk+uk6hosJLDWcfc0O3hMvBP+MEEbQ03AyMAwxH7FI4brjCmJIEQ7RBaHqUQvAUAAOn2WvadBHMMGQLVB3MM0w7OD0QOhAKD9SfymPFQ8WT0IwD5B9IV4S0CPNFLsD2hJYQdcROtAaz01fN58On2pfw29mbts+xD5prPm8h4yP7Dq8XTy5bJhsyn2vzlzecT77MAmAWNB7AOcROdH8cyejNBHFgRHxVYEYkBNvaz7MzuC/4NC4gIDQviEusXHxXJEMALP/vz9Ebz7vUg+uoDhw+pFv4hcS7EQLNKDjOKFfkHqAJ99nbqLuoz6SLzRwAL/sbv1uxS6jzaldDIzbrJv8iF00LSqsyS3q3tYO508Xf+sPrZ+U8MrhUWELcaay9JKLYhMR8aFogI8AL6AEbzE+8b+wAAGQKmCZAUvRmnHW4h4RnAC4QChAK1+cr12fnt/FsDbQ0zGPobbSjpOeMmxQoyBAb/ZPQO8FDxTuSL5n32T/io7rjrmeq/49PmSeU22xLbNeIh38vawNyL5j7nMvDu9cD3swDBBM4PuRMPGM8jOyQKGQYTSBRjD9oGbwY8AgAASwbzCIgI/gYwC3MMugyHDzALHQgTA2YBRwAv/kcAGQLwAsEEgwl4C5EN3gwNC1EZIxtfCcn8sPpo+jv11fOj74vmPe7z9JjxmeoT7+rvPe6Y8fDuZ+YV6DfvuOsz6ULto+/17dn55/21+Yf7/gY2CpEN8BZVH3kfgBdIFLUNwAtUC+UEP/to+h4BZAiNB7EHrAjpChYQpRAHDJgFxgOtARD9qvs6/GP7jPrJ/Bb8xP1bA1sDzALZDb4SCQVd/LD6l/hk9Cb5kfmN80r5VgSzAIz6NP2X+Ij0kfl494DoBuRc6Knnj+zD6b3q8O4X9Xj3VPdj+6X8wQSmCV0QvRlQIAgg/xpMGjgXpRChCicGQgFT/jcDQAgiB/MIfQowC6YJnQTy+zv1rPRq8+rvPe5k9ET6L/7RAXQFygmBEL4S5hinHb4SfQoyBPACRPqX+AL5xfaR+QAAawBo+s773vjM7pnqI+xX6dPmH+a05ZbkKesO8EbznPeX+Bb8XfydBCAOTRMtGTUl8yM8HWobFBecC/ACZgHJ/On2Xfw6/Bb8cf/aBpMG+QdfCRMDNP1E+t74QPT+8l/1Dfe6+L7+hALaBiYNehj/Gq0cASgcI4cPeQTd/xL2yvXT+nj37vVrAKMDuvgi8/7y6u/25gbku93v2krefOIR4mzlN+9f9Q330/r3+hv7IgcfFWEWrRwrJ98gwhjwFvIPTf86/Nn5k/KT8uP3P/ua/v4GMAuICKYJZAiJAWP7kfla9hL2c/hj+4kBvAXAC/0NyRAaFokcahtqGzskMxixBzIE4v4i8y3xpvVg7trymv7O+7bytvJq83vpAeVj4OTcu91i54bnm+Mt8SD6/fn9+dP6VPcC+QMGugxACBYQJyETHpAUbBQHDBkCRwBrAJz3bfkAAI8ArQE7CTAL/gbpCsALIgdgAjwCh/u6+KD9swBHAGAC/gZaCrUNOhDJEEoNnhjjJoQdVAsZApX/bfkb+xf1EOl08VP+3f+D9UD0J/J58ITu6OJG2O/a3eRT4y/jM+mx8zD3wPf589zrk/IC+bwFWgo/Dywgwyw+Kiwg5hgbD9AI5QRE+mT0qvt/A28G0AgNC9MOEBE6EAkFFvz9+X32wPeh9un20/oOBEYHQAihCnMMaA5dED8PmhLWGxgdihXzCAb/xP13/lr2E+8y8DD38vsg+v7yLuoa56DiJt4s3Ureh+CC4QHlyOiJ7e71wPc79br4yfze+MT9+QfJEJ0fSSjuJFoeWh4UF1QLhALT+qb1Y/vRAbMA8ALVB5YMjA5PDCIHrQFrABD9VPfz9Mr1aPojABkCnQQiB8ALFhBYESAOlgxUC+EZEx5EDpX/AACJAQv+/fl58PrsJvnWAET6HfRQ8frs1uzx58/gJt4M4yXlmeq28oP1AvkW/Bv7wPcr+FT3iPRT/m8GHQjnER0ctxofFRQXKhOsCB0IwQTd/wAAeQQZAlsDmAXgBZgFsQe8BTcDqAK+/s77XfxY/Rv7Kv9bA8EEpgk2CjsJDQvTDjALIgeMDtsabBQNC1YEjwDE/e38WvZW8B30OvwG/0/4QPQt8XTxW+9n5sTiBuT25lfpBetC7QnxMPdz+Pf6sPog+pH5zvs6/PL7RwD+BkoN7RD7FJAUfBGMDsAL+QcTAxkCYAL1AWYB+gD1AbYGZAgdCIgIaQd5BIkBd/7E/T/7FvxY/U3/MgS8BUYH7gl4C+ML/Q06EBQXHxUrDJgFdAXMAlP+oP0N96H28vug/Wj6pvXg8Z3wefD17UzrBeuZ6sbvP/sW/OP3Avl3/oH8gfz9+WrziPTO+yD6Jvni/mYBNwOhCnMMiAjzCLEHNgrjC2QInQRWBH8DNwPGA60BTf8ZAuoDeQTQCNUHwQR5BFYEfwMyBDIEnQRWBDIE6gM8Ar7+4v5CAR4BZgGJAQMGfQr5B0AIoQqxB8EEWwPWADr8U/6g/c77FvzT+t74uvgS9hL2wPfF9rHz6fas9Dv14PFL8pjxsfNk9On2AvnZ+W359/o6/Bb8oP0L/okBYAIJBSIHRgdACDALKwwSCjYKFwkDBlAFPAJx/5X/swBbA6MD6gOdBHkEVgQtBTIELQUtBagCBv/6AFP+uf+EAq0B0QHaBpwL7gnVBxcJQAhpB0sGxgM3A8YD8AIeAaX8uvgH+H324/d99sr1ofah9nj3xfZa9jD3NvZP+E/4T/gH+Hj3Avm1+QL5bfkG//L7xP2l/L7+IwDwAsYDhAJmAfUBNwM3A6gC8AJQBagCMgRbA7MAYAIDBuoDJwZGB9oGkwa8BXkEUAX+BtUHsQeYBTIEeQQJBQ4EMgTaBlAFYALBBDwCswCJARMDwQTgBVAFxgOEAo8AoP06/D/7jPpP+H326fY29g33X/VU9974c/i1+QL5uvgN9235T/je+LD6tfnZ+Rv7OvxY/Vj9U/4jAEcA+gAZArMA0QETA6gC8AKoAh4BWwPMAqgChAL1AfUBNwN/AzwC6gOjAycGaQdGB0AI+QfzCLEHZAixB9oGtgZQBXQFnQTwAn8DPAIq/5r+d/6q+877/fkC+Sb5uvhU95f4aPq6+JH53vhP+Lr4kfne+Lr4sPqH+2P7Kv+q+wv+vv6a/iMA+gBx/77+swCV/3f+L/5Y/Zr+3f9mAagC+gCJAdYAGQJx/6gC9QHMAhMDLQUTAw4ExgPlBLwFLQXBBJMGkwYJBW8G\" type=\"audio/wav\" />\n",
              "                    Your browser does not support the audio element.\n",
              "                </audio>\n",
              "              "
            ]
          },
          "metadata": {},
          "execution_count": 12
        }
      ],
      "source": [
        "# play and listen to a sample \n",
        "SAMPLING_RATE = 8000 # This value is determined by the wav file, DO NOT CHANGE\n",
        "\n",
        "x, sr = librosa.load(path + sample_wav_file, sr=SAMPLING_RATE) #, \n",
        "ipd.Audio(x, rate=sr)"
      ]
    },
    {
      "cell_type": "code",
      "execution_count": 13,
      "id": "b7438910",
      "metadata": {
        "colab": {
          "base_uri": "https://localhost:8080/",
          "height": 187
        },
        "id": "b7438910",
        "outputId": "4789af0f-e4c5-480e-9426-07d77045255a"
      },
      "outputs": [
        {
          "output_type": "display_data",
          "data": {
            "text/plain": [
              "<Figure size 720x144 with 1 Axes>"
            ],
            "image/png": "[encoded data removed]"
          },
          "metadata": {
            "needs_background": "light"
          }
        }
      ],
      "source": [
        "# plot as a waveform \n",
        "fig, ax = plt.subplots(figsize=(10, 2), sharex=True)\n",
        "\n",
        "img = librosa.display.waveshow(y=x, sr=sr, alpha=0.75, x_axis='time', color='blue')\n",
        "\n",
        "ax.set(title='Amplitude waveform')\n",
        "ax.set_ylabel('Amplitude')\n",
        "ax.label_outer()"
      ]
    },
    {
      "cell_type": "code",
      "execution_count": 14,
      "id": "3c4297e5",
      "metadata": {
        "colab": {
          "base_uri": "https://localhost:8080/"
        },
        "id": "3c4297e5",
        "outputId": "7f7d57cf-7641-4ae5-cd87-ab588c60abcd"
      },
      "outputs": [
        {
          "output_type": "execute_result",
          "data": {
            "text/plain": [
              "428.5"
            ]
          },
          "metadata": {},
          "execution_count": 14
        }
      ],
      "source": [
        "# sample duration in milliseconds\n",
        "(1000*len(x))/SAMPLING_RATE"
      ]
    },
    {
      "cell_type": "markdown",
      "id": "3df44120",
      "metadata": {
        "id": "3df44120"
      },
      "source": [
        "In the cell above, you can see the temporal duration of the audio is 428.5 milliseconds. For digits in the range 0-9, the duration of the speech segment should be around 0.5 seconds with reasonable variation depending on speech rate (i.e., how fast the speaker speaks). "
      ]
    },
    {
      "cell_type": "markdown",
      "id": "d2a0c08e",
      "metadata": {
        "id": "d2a0c08e"
      },
      "source": [
        "## The Speech Signal Representation - Mel Spectrograms"
      ]
    },
    {
      "cell_type": "markdown",
      "id": "6370d9c2",
      "metadata": {
        "id": "6370d9c2"
      },
      "source": [
        "Humans can recognize and differentiate different speech sounds based on the frequency characteristics of the sounds. For machine learning applications, human speech is represented using spectro-temporal features in the [Mel-scale](https://en.wikipedia.org/wiki/Mel_scale) extracted from the speech sample. Mel-scale features are inspired by human speech perception and auditory processing whereby the human ear has difference sensitivity (or resolution) in differet frequency bandes. That is, the human ear can better recognize differences in in lower range frequences, while higher range frequences have a lower resolution. The Mel-scale is linear for frequencies in the range (0-1kHz), and logarithmic for frequencies above 1kHz.\n",
        "\n",
        "In the spectro-temporal representation of speech, a speech sample can be seen as a sequence of $T$ spectral vectors as $\\mathbf{X} = (\\mathbf{x}^1, \\mathbf{x}^2, \\dots, \\mathbf{x}^T)$. Each spectral vector $\\mathbf{x}^t \\in \\mathbb{R}^{k}$ at time-step $t$ is extracted from a short speech segment (~25 milliseconds) with the assumption that the signal is time-invariant in this small time window. Here, $k$ is the number of frequency bands in the [spectrogram](https://en.wikipedia.org/wiki/Spectrogram) and this is a parameter of the feature extraction pipeline. The representation is based on the Fourier transform to convert the temporal signal into the frequency domain. \n",
        "\n",
        "In automatic speech recognition (ASR) research and applications, spectral vectors are usually referred to as \"acoustic frames\". Morover, adjacent frames are extracted with some overlap between them, usually ~10 milliseconds. "
      ]
    },
    {
      "cell_type": "code",
      "execution_count": 15,
      "id": "ef41492d",
      "metadata": {
        "id": "ef41492d"
      },
      "outputs": [],
      "source": [
        "def extract_melspectrogram(signal, sr, num_mels):\n",
        "    \"\"\"\n",
        "    Given a time series speech signal (.wav), sampling rate (sr), \n",
        "    and the number of mel coefficients, return a mel-scaled \n",
        "    representation of the signal as numpy array.\n",
        "    \"\"\"\n",
        "    \n",
        "    mel_features = librosa.feature.melspectrogram(y=signal,\n",
        "        sr=sr,\n",
        "        n_fft=200, # with sampling rate = 8000, this corresponds to 25 ms\n",
        "        hop_length=80, # with sampling rate = 8000, this corresponds to 10 ms\n",
        "        n_mels=num_mels, # number of frequency bins, use either 13 or 39\n",
        "        fmin=50, # min frequency threshold\n",
        "        fmax=4000 # max frequency threshold, set to SAMPLING_RATE/2\n",
        "    )\n",
        "    \n",
        "    # for numerical stability added this line\n",
        "    mel_features = np.where(mel_features == 0, np.finfo(float).eps, mel_features)\n",
        "\n",
        "    # 20 * log10 to convert to log scale\n",
        "    log_mel_features = 20*np.log10(mel_features)\n",
        "\n",
        "    # feature scaling\n",
        "    scaled_log_mel_features = preprocessing.scale(log_mel_features, axis=1)\n",
        "    \n",
        "    return scaled_log_mel_features"
      ]
    },
    {
      "cell_type": "code",
      "execution_count": 16,
      "id": "3600d78e",
      "metadata": {
        "colab": {
          "base_uri": "https://localhost:8080/"
        },
        "id": "3600d78e",
        "outputId": "1d67b8a5-5279-4993-d30d-6f4912d6aeec"
      },
      "outputs": [
        {
          "output_type": "execute_result",
          "data": {
            "text/plain": [
              "(13, 43)"
            ]
          },
          "metadata": {},
          "execution_count": 16
        }
      ],
      "source": [
        "melspectrogram = extract_melspectrogram(x, sr, num_mels=13)\n",
        "\n",
        "melspectrogram.shape"
      ]
    },
    {
      "cell_type": "markdown",
      "id": "7ae0a639",
      "metadata": {
        "id": "7ae0a639"
      },
      "source": [
        "Note that the shape of the array (K x T) represents the number of frequency bands (K) and the number of spectral vectors in this representation (here, K=13, T=43). K is a hyperparameter and the recommended values in ASR research are (13, 39, 81, etc). Here, we fix K = 13. On the other hand, T varies from sample to sample depending on the duration of the sample.  "
      ]
    },
    {
      "cell_type": "code",
      "execution_count": 17,
      "id": "f17e8976",
      "metadata": {
        "id": "f17e8976",
        "outputId": "cd4e8445-f89e-49d9-e842-128c70a740b8",
        "colab": {
          "base_uri": "https://localhost:8080/",
          "height": 187
        }
      },
      "outputs": [
        {
          "output_type": "display_data",
          "data": {
            "text/plain": [
              "<Figure size 720x144 with 1 Axes>"
            ],
            "image/png": "[encoded data removed]"
          },
          "metadata": {
            "needs_background": "light"
          }
        }
      ],
      "source": [
        "# plot and view the spectrogram\n",
        "\n",
        "fig, ax = plt.subplots(figsize=(10, 2), sharex=True)\n",
        "\n",
        "img = librosa.display.specshow(\n",
        "    melspectrogram, \n",
        "    sr=sr, \n",
        "    x_axis='time', \n",
        "    y_axis='mel', \n",
        "    cmap='viridis', \n",
        "    fmax=4000, \n",
        "    hop_length=80\n",
        ")\n",
        "\n",
        "ax.set(title='Log-frequency power spectrogram')\n",
        "\n",
        "ax.label_outer()"
      ]
    },
    {
      "cell_type": "markdown",
      "id": "e6c872b6",
      "metadata": {
        "id": "e6c872b6"
      },
      "source": [
        "As you can see above from the figure, the spectrogram representation can be viewed as a matrix $\\mathbf{X} \\in \\mathbb{R}^{T} \\times \\mathbb{R}^{k}$.  "
      ]
    },
    {
      "cell_type": "markdown",
      "id": "d5392b92",
      "metadata": {
        "id": "d5392b92"
      },
      "source": [
        "## Task I\n",
        "1. One problem with the spectrogram as a speech feature represetation is that different speech samples would have dfferent durations due to inherent speech variability (e.g., speech rate, speaker dialect, etc). That is, the $T$ in the $(T \\times k)$-dimensional representation would be different for each sample. Therefore, for the baseline model, we will implement a method to have a fixed-size representation for all speech samples. Write a function downsample_spectrogram(X, N) that takes as input a spectrogram $\\mathbf{X} \\in \\mathbb{R}^{T \\times k}$ and a parameter N <= 25. The function should (1) make N equally-sized splits of S across the time-axis, (2) apply a pooling technique (e.g., mean pooling) to each split across the frequency axis to obtain an array that represents a downsampled version of the spectrogram $\\mathbf{X}' \\in \\mathbb{R}^{N \\times k}$, and (3) re-arange $\\mathbf{X}'$ as a vector $\\mathbf{v} \\in \\mathbb{R}^{Nk}$.    \n",
        "\n",
        "2. Using the downsample_spectrogram(X, N) function, transform all the speech samples into vectors $\\mathbf{v} \\in \\mathbb{R}^{Nk}$. \n",
        "\n",
        "3. Given the speaker-based train/dev/test spilts in the SDR_metadata.tsv, fit a linear model on the training samples. That is, your model should be build on data from 4 speakers {'nicolas', 'theo' , 'jackson',  'george'}. Hint: you can experiment with a few model alternatives in the SGDClassifier module in scikit-learn. \n",
        "\n",
        "4. Evaluate you model on the dev and test splits. Use accuracy as an evaluation metric. Analyze the model performance using a [confusion matrix](https://en.wikipedia.org/wiki/Confusion_matrix) of the all possible labels (0-9), Analyze [precision, recall](https://en.wikipedia.org/wiki/Precision_and_recall), [F1-score](https://en.wikipedia.org/wiki/F-score) for each label. Report your observation."
      ]
    },
    {
      "cell_type": "code",
      "execution_count": 18,
      "id": "cc55ecdc",
      "metadata": {
        "id": "cc55ecdc"
      },
      "outputs": [],
      "source": [
        "import skimage.measure"
      ]
    },
    {
      "cell_type": "code",
      "execution_count": 19,
      "id": "ac58a49b",
      "metadata": {
        "id": "ac58a49b"
      },
      "outputs": [],
      "source": [
        "def ResampleLinear1D(row, N: int): \n",
        "    # validation\n",
        "    if N > 25:\n",
        "        N = 25\n",
        "    if N < 1:\n",
        "        N = 1\n",
        "\n",
        "    # row is a list, need it to be np.array\n",
        "    row = np.array(row, dtype=np.float)\n",
        "    # create new spacing\n",
        "    index_arr = np.linspace(0, row.shape[0]-1, num=N, dtype=np.float)\n",
        "    \n",
        "    index_floor = np.floor(index_arr).astype(np.int) # np.int as they'll return them as np.float types\n",
        "    index_ceil = index_floor + 1 \n",
        "    index_rem = index_arr - index_floor \n",
        "    # what does this do?\n",
        "    interp = (row[index_floor] * (1.0 - index_rem)) + \\\n",
        "                (row[index_ceil % row.shape[0]] * index_rem)\n",
        "    return interp"
      ]
    },
    {
      "cell_type": "code",
      "execution_count": 20,
      "id": "423a3e64",
      "metadata": {
        "id": "423a3e64"
      },
      "outputs": [],
      "source": [
        "def downsample_spectrogram(X, N):\n",
        "    \"\"\"\n",
        "    Given a spectrogram of an arbitrary length/duration (X ∈ K x T), \n",
        "    return a downsampled version of the spectrogram v ∈ K * N\n",
        "    \"\"\"\n",
        "    # use a for loop to downsample the array along the columns\n",
        "    downsampled_arr = []\n",
        "    for row in X:\n",
        "        downsampled_row = ResampleLinear1D(row, N)\n",
        "        downsampled_arr.append(downsampled_row)\n",
        "\n",
        "    v = np.array(downsampled_arr).flatten()\n",
        "     \n",
        "    return v"
      ]
    },
    {
      "cell_type": "markdown",
      "id": "1bbe63ed",
      "metadata": {
        "id": "1bbe63ed"
      },
      "source": [
        "## Baseline Model"
      ]
    },
    {
      "cell_type": "code",
      "execution_count": 21,
      "id": "4948b8fc",
      "metadata": {
        "id": "4948b8fc",
        "outputId": "ae67f7ac-0814-450a-f9c3-2264d4f75db2",
        "colab": {
          "base_uri": "https://localhost:8080/"
        }
      },
      "outputs": [
        {
          "output_type": "execute_result",
          "data": {
            "text/plain": [
              "array(['theo', 'yweweler', 'george', 'nicolas', 'lucas', 'jackson'],\n",
              "      dtype=object)"
            ]
          },
          "metadata": {},
          "execution_count": 21
        }
      ],
      "source": [
        "sdr_df['speaker'].unique()"
      ]
    },
    {
      "cell_type": "code",
      "execution_count": 91,
      "id": "8c1d4df7",
      "metadata": {
        "id": "8c1d4df7"
      },
      "outputs": [],
      "source": [
        "# prepare data and split \n",
        "train_X = []\n",
        "dev_X = []\n",
        "test_X = []\n",
        "\n",
        "train_Y = []\n",
        "dev_Y = []\n",
        "test_Y = []\n",
        "\n",
        "def downsaple_all_data(sdr_df, N = 25):\n",
        "    for index, row in sdr_df.iterrows():\n",
        "        sample_wav_file = row[\"file\"]\n",
        "        x, sr = librosa.load(path + sample_wav_file, sr=SAMPLING_RATE) #, \n",
        "        melspectrogram = extract_melspectrogram(x, sr, num_mels=13)\n",
        "        \n",
        "        downsample = downsample_spectrogram(melspectrogram, N)\n",
        "        label = row[\"label\"]\n",
        "        split = row[\"split\"]\n",
        "        speaker = row[\"speaker\"]\n",
        "        \n",
        "        if split == \"TRAIN\" and speaker in {'nicolas', 'theo' , 'jackson',  'george'}:\n",
        "            train_X.append(downsample)\n",
        "            train_Y.append(label)\n",
        "        \n",
        "        if split == \"DEV\":\n",
        "            dev_X.append(downsample)\n",
        "            dev_Y.append(label)\n",
        "            \n",
        "        if split == \"TEST\":\n",
        "            test_X.append(downsample)\n",
        "            test_Y.append(label)\n",
        "\n",
        "downsaple_all_data(sdr_df, N = 25)\n",
        "train_X = np.array(train_X)\n",
        "train_Y = np.array(train_Y)\n",
        "\n",
        "dev_X = np.array(dev_X)\n",
        "dev_Y = np.array(dev_Y)\n",
        "\n",
        "test_X = np.array(test_X)\n",
        "test_Y = np.array(test_Y)"
      ]
    },
    {
      "cell_type": "code",
      "execution_count": 92,
      "id": "be4b0eb8",
      "metadata": {
        "id": "be4b0eb8"
      },
      "outputs": [],
      "source": [
        "from sklearn.linear_model import LinearRegression, SGDClassifier, Ridge, LogisticRegression, Lasso\n",
        "from keras.utils import to_categorical"
      ]
    },
    {
      "cell_type": "code",
      "execution_count": 102,
      "id": "8649f2ca",
      "metadata": {
        "id": "8649f2ca"
      },
      "outputs": [],
      "source": [
        "# train a linear model \n",
        "sgd = SGDClassifier(loss='log_loss', penalty='elasticnet').fit(train_X, train_Y)\n",
        "lr = LogisticRegression(solver='saga', multi_class = 'ovr').fit(train_X, train_Y)"
      ]
    },
    {
      "cell_type": "code",
      "execution_count": 105,
      "id": "cde8a789",
      "metadata": {
        "id": "cde8a789",
        "outputId": "2ab82837-7b70-4567-8bf3-0c245b5e6b7a",
        "colab": {
          "base_uri": "https://localhost:8080/"
        }
      },
      "outputs": [
        {
          "output_type": "stream",
          "name": "stdout",
          "text": [
            "SGDClassifier score 0.46680080482897385, LogisticRegression score 0.4949698189134809\n"
          ]
        }
      ],
      "source": [
        "# evaluate the model using accuracy metric\n",
        "dev_pred_sgd = sgd.predict(dev_X).astype(\"int\")\n",
        "dev_pred_lr = lr.predict(dev_X).astype(\"int\")\n",
        "\n",
        "score_sgd = accuracy_score(dev_Y, dev_pred_sgd)\n",
        "score_lr = accuracy_score(dev_Y, dev_pred_lr)\n",
        "print(f'SGDClassifier score {score_sgd}, LogisticRegression score {score_lr}')"
      ]
    },
    {
      "cell_type": "code",
      "execution_count": 106,
      "id": "e2947f36",
      "metadata": {
        "id": "e2947f36",
        "colab": {
          "base_uri": "https://localhost:8080/"
        },
        "outputId": "cfffecec-994f-4be1-fda6-f4363737c8f1"
      },
      "outputs": [
        {
          "output_type": "stream",
          "name": "stdout",
          "text": [
            "SGD_CM:  [[42  0  3  0  0  0  0  2  0  0]\n",
            " [ 0 24  0  0  3  0 16  1  1  0]\n",
            " [ 6  0 16  1  5  0 13  4  1  0]\n",
            " [ 0  0  0 25  1  0 20  6  1  1]\n",
            " [25  1  2  3 11  0  9  2  1  0]\n",
            " [ 1  0  0  7  0  1 39  0  2  0]\n",
            " [ 0  0  0  8  3  0 34  4  5  0]\n",
            " [ 4  0  5  1  0  0 12 31  0  0]\n",
            " [ 0  0  0  1  0  0 19  0 24  0]\n",
            " [ 0  2  0  4  0  3 12  4  1 24]]\n",
            "SGD_LR:  [[42  0  3  0  0  0  0  2  0  0]\n",
            " [ 0 29  0  0  8  0  5  1  2  0]\n",
            " [ 5  4 18  0  6  0  7  6  0  0]\n",
            " [ 0  0  0 27  0  8  3  4  8  4]\n",
            " [15  2  2  0 11  2  4  8  0 10]\n",
            " [ 0  1  0  2  1  6 36  0  3  1]\n",
            " [ 0  0  1  4  5  0 25  8 10  1]\n",
            " [ 0  4  2  2  1  0  6 37  1  0]\n",
            " [ 0  0  0  0  0  0 19  0 25  0]\n",
            " [ 1  6  0  2  0 10  0  4  1 26]]\n"
          ]
        }
      ],
      "source": [
        "# analyze the confusion matrix of the baseline\n",
        "cm_sgd = confusion_matrix(dev_Y, dev_pred_sgd)\n",
        "cm_lr = confusion_matrix(dev_Y, dev_pred_lr)\n",
        "print('SGD_CM: ', cm_sgd)\n",
        "print('SGD_LR: ', cm_lr)"
      ]
    },
    {
      "cell_type": "code",
      "execution_count": 107,
      "id": "b5bc804e",
      "metadata": {
        "id": "b5bc804e",
        "outputId": "5e4f8c55-30b0-451d-caff-2b6937fd2c11",
        "colab": {
          "base_uri": "https://localhost:8080/"
        }
      },
      "outputs": [
        {
          "output_type": "stream",
          "name": "stdout",
          "text": [
            "SGD_Recall:  0.47014329436946517\n",
            "LR_Recall:  0.5002327505942782\n"
          ]
        }
      ],
      "source": [
        "# recall_score(dev_Y, dev_pred_reg, average=\"macro\")\n",
        "print('SGD_Recall: ', recall_score(dev_Y, dev_pred_sgd, average=\"macro\"))\n",
        "print('LR_Recall: ', recall_score(dev_Y, dev_pred_lr, average=\"macro\"))"
      ]
    },
    {
      "cell_type": "code",
      "execution_count": 108,
      "id": "11d92241",
      "metadata": {
        "id": "11d92241",
        "outputId": "37d901dc-3946-476a-fb6b-8849fdd03b22",
        "colab": {
          "base_uri": "https://localhost:8080/"
        }
      },
      "outputs": [
        {
          "output_type": "stream",
          "name": "stdout",
          "text": [
            "SGD_f1:  0.47043165310032\n",
            "LR_f1:  0.49213379947226343\n"
          ]
        }
      ],
      "source": [
        "# f1_score(dev_Y, dev_pred_reg, average=\"macro\")\n",
        "print('SGD_f1: ', f1_score(dev_Y, dev_pred_sgd, average=\"macro\"))\n",
        "print('LR_f1: ', f1_score(dev_Y, dev_pred_lr, average=\"macro\"))"
      ]
    },
    {
      "cell_type": "markdown",
      "id": "435d62c9",
      "metadata": {
        "id": "435d62c9"
      },
      "source": [
        "## Task II\n",
        "1. Having established a baseline with a linear model trained on a downsampled signal representation of the speech segment, this task aims to learn a classifier based on the full speech segment. To this end, you will implement a neural model that is suitable for sequential data such as recurrent DNN, convolutional DNN with 1-D temporal convolution, or an audio transformer. The model should take the acoustic sample as it is (i.e., the Mel spectrogram could have an arbitrary length) without the need to downsample the segment. You need to implement at least two of the aforementioned models. Do the neural models improve accuracy over the baseline model? Do you observe any signs of overfitting to the training data? How do the hyperparameters affect the model performance? Report and discuss your observations.        \n",
        "\n",
        "2. Evaluate your (best) neural models and compare to the baseline model using the same evalution process as in task I.4. \n",
        "\n",
        "3. Use a dimensionality reduction algorithm such as t-SNE \\[[1](https://en.wikipedia.org/wiki/T-distributed_stochastic_neighbor_embedding),[2](https://pypi.org/project/tsne-torch/),[3](https://scikit-learn.org/stable/modules/generated/sklearn.manifold.TSNE.html)\\] or [UMAP](https://umap-learn.readthedocs.io/en/latest/basic_usage.html) to analyze how the different models seperate the different classes (the last non-linear layer in your model). Compare to the downsampled representation you used in the baseline and report your observations.\n",
        "\n",
        "4. Are the differences between the different models statistically significant? To answer this question, you need to implement a statistical significance test based on bootstrapping method. To read more how to estiame p-values based on bootstrapping, we recommend the materials on this paper https://aclanthology.org/D12-1091.pdf. Include the baseline model in your evaluation. "
      ]
    },
    {
      "cell_type": "code",
      "execution_count": 36,
      "id": "50a5d3eb",
      "metadata": {
        "id": "50a5d3eb"
      },
      "outputs": [],
      "source": [
        "from tensorflow.keras.layers import LSTM, Dense, Dropout, Conv1D, MaxPooling1D, AveragePooling1D, Flatten\n",
        "import keras "
      ]
    },
    {
      "cell_type": "code",
      "execution_count": 37,
      "id": "cd5eb7d3",
      "metadata": {
        "id": "cd5eb7d3"
      },
      "outputs": [],
      "source": [
        "X_train = []\n",
        "X_dev = []\n",
        "X_test = []\n",
        "\n",
        "y_train = []\n",
        "y_dev = []\n",
        "y_test = []\n",
        "\n",
        "def downsample_all_data(sdr_df, N = 25):\n",
        "    for index, row in sdr_df.iterrows():\n",
        "        sample_wav_file = row[\"file\"]\n",
        "        x, sr = librosa.load(path + sample_wav_file, sr=SAMPLING_RATE)\n",
        "        melspectrogram = extract_melspectrogram(x, sr, num_mels=13)\n",
        "        \n",
        "        downsample = downsample_spectrogram(melspectrogram, N)\n",
        "        label = row[\"label\"]\n",
        "        split = row[\"split\"]\n",
        "        \n",
        "        if split == \"TRAIN\":\n",
        "            X_train.append(downsample)\n",
        "            y_train.append(label)\n",
        "        \n",
        "        if split == \"DEV\":\n",
        "            X_dev.append(downsample)\n",
        "            y_dev.append(label)\n",
        "            \n",
        "        if split == \"TEST\":\n",
        "            X_test.append(downsample)\n",
        "            y_test.append(label)\n",
        "\n",
        "downsample_all_data(sdr_df, 24)"
      ]
    },
    {
      "cell_type": "code",
      "execution_count": 38,
      "id": "4b22a856",
      "metadata": {
        "colab": {
          "base_uri": "https://localhost:8080/"
        },
        "id": "4b22a856",
        "outputId": "c98dee1d-2688-46c4-c6cb-1d7b3f7333e1"
      },
      "outputs": [
        {
          "output_type": "execute_result",
          "data": {
            "text/plain": [
              "((2000, 312), (503, 312), (497, 312), 2000, 503, 497)"
            ]
          },
          "metadata": {},
          "execution_count": 38
        }
      ],
      "source": [
        "X_train = np.array(X_train)\n",
        "X_dev = np.array(X_dev)\n",
        "X_test = np.array(X_test)\n",
        "\n",
        "y_train = np.array(y_train)\n",
        "y_dev = np.array(y_dev)\n",
        "y_test = np.array(y_test)\n",
        "\n",
        "X_train.shape, X_test.shape, X_dev.shape, len(y_train), len(y_test), len(y_dev)\n",
        "# we see that the maximum sequence length of a single example, i.e. timestamp, is X_train.shape[1] == N * num_mels\n",
        "# and we've X_train.shape[0] examples"
      ]
    },
    {
      "cell_type": "markdown",
      "id": "ae0ff2ed",
      "metadata": {
        "id": "ae0ff2ed"
      },
      "source": [
        "LSTM Model"
      ]
    },
    {
      "cell_type": "code",
      "execution_count": 39,
      "id": "e42d869c",
      "metadata": {
        "id": "e42d869c",
        "outputId": "ce771166-2b6f-4a55-d849-bae623bbc5c3",
        "colab": {
          "base_uri": "https://localhost:8080/"
        }
      },
      "outputs": [
        {
          "output_type": "execute_result",
          "data": {
            "text/plain": [
              "array([5, 2, 6, 9, 1, 4, 8, 3, 0, 7])"
            ]
          },
          "metadata": {},
          "execution_count": 39
        }
      ],
      "source": [
        "X_train = X_train.reshape(X_train.shape[0],X_train.shape[1],1)\n",
        "# should be done for X_dev and X_test as well\n",
        "type(X_train)\n",
        "sdr_df['label'].unique()"
      ]
    },
    {
      "cell_type": "code",
      "execution_count": 40,
      "id": "b857b877",
      "metadata": {
        "id": "b857b877"
      },
      "outputs": [],
      "source": [
        "timesteps = X_train.shape[1]\n",
        "units = timesteps # how many LSTM cell we've connected sequentially, at most it's timesteps\n",
        "# data is X_train, num_layers is architecture of hidden layers, number and size, and dropout is values for dropout in hidden layers\n",
        "def get_LSTM(data:np.ndarray, timesteps:int, units:int, num_layers:list(), layer_type:list(), dropout:list(), activation:str):\n",
        "    '''\n",
        "        units: number of units in each LSTM cell, usually set to timesteps\n",
        "        num_layers, layer_type and dropout are with respect to the hidden layer, and need to be of the same length\n",
        "        num_layers: the number of neurons in each hidden layer\n",
        "        layer_type: 1 for LSTM, o.w. for Dense\n",
        "        dropout: self explanatory\n",
        "    '''\n",
        "    if len(num_layers) != len(dropout) and (len(num_layers) or len(dropout)) == 0:\n",
        "        raise Exception('Number of layers and dropout values, has to be the same')\n",
        "    \n",
        "    input_shape=(data.shape[1],1) # input shape is timestamp x 1, since we're feeding them sequentially\n",
        "    model = keras.Sequential()\n",
        "    \n",
        "    # We need to add return_sequences=True for all LSTM layers except the last one.\n",
        "    # Setting this flag to True lets Keras know that LSTM output should contain all historical generated outputs along with time stamps (3D). \n",
        "    # So, next LSTM layer can work further on the data. If this flag is false, then LSTM only returns last output (2D). \n",
        "    # Such output is not good enough for another LSTM layer.\n",
        "\n",
        "    # input layer\n",
        "    if 1 in layer_type:\n",
        "        model.add(LSTM(units,input_shape=input_shape, return_sequences=True))\n",
        "    else:\n",
        "        model.add(LSTM(units,input_shape=input_shape, return_sequences=False))\n",
        "\n",
        "    for i in range(len(num_layers)):\n",
        "        model.add(Dropout(dropout[i])) # applies to the next layer   \n",
        "        if layer_type[i] == 1:\n",
        "            if 1 in layer_type[i+1:]:\n",
        "                model.add(LSTM(units, return_sequences=True))\n",
        "            else:\n",
        "                model.add(LSTM(units))\n",
        "        else:\n",
        "            model.add(Dense(num_layers[i], activation=activation))\n",
        "\n",
        "    # output layer\n",
        "    model.add(Dense(10, activation='softmax'))\n",
        "    # model.summary()\n",
        "    return model"
      ]
    },
    {
      "cell_type": "code",
      "execution_count": 41,
      "id": "49d6265f",
      "metadata": {
        "id": "49d6265f"
      },
      "outputs": [],
      "source": [
        "model_lstm = get_LSTM(data=X_train, timesteps=timesteps, units=units, num_layers=[128, 128, 64, 64, 32], layer_type=[0, 0, 0, 0, 0], dropout=[0.25, 0.25, 0.25, 0.25, 0.25], activation='relu')\n"
      ]
    },
    {
      "cell_type": "code",
      "execution_count": 51,
      "id": "e03a0da4",
      "metadata": {
        "id": "e03a0da4"
      },
      "outputs": [],
      "source": [
        "# options for loss are 'categorical_hinge', 'SparseCategoricalCrossentropy', 'tf.keras.losses.Hinge', 'CategoricalCrossentropy',..\n",
        "#model_lstm.compile(optimizer='adam',loss='SparseCategoricalCrossentropy',metrics=['acc'])\n",
        "model_lstm.compile(optimizer='adam',loss='categorical_crossentropy',metrics=['acc'])"
      ]
    },
    {
      "cell_type": "code",
      "execution_count": 64,
      "id": "8c8f75a1",
      "metadata": {
        "id": "8c8f75a1"
      },
      "outputs": [],
      "source": [
        "from keras.utils import to_categorical\n",
        "\n",
        "X_train = X_train.reshape(X_train.shape[0],X_train.shape[1],1)\n",
        "y_train.shape\n",
        "\n",
        "# one hot encoding\n",
        "encoded_train = to_categorical(y_train)\n",
        "encoded_test = to_categorical(y_test)\n",
        "encoded_dev = to_categorical(y_dev)\n"
      ]
    },
    {
      "cell_type": "code",
      "execution_count": 61,
      "id": "81d3211c",
      "metadata": {
        "id": "81d3211c",
        "colab": {
          "base_uri": "https://localhost:8080/"
        },
        "outputId": "64af5983-7220-44bf-d4be-8db24a308c47"
      },
      "outputs": [
        {
          "output_type": "stream",
          "name": "stdout",
          "text": [
            "Epoch 1/100\n",
            "32/32 [==============================] - 1s 36ms/step - loss: 0.5463 - acc: 0.8230 - val_loss: 2.8694 - val_acc: 0.2978\n",
            "Epoch 2/100\n",
            "32/32 [==============================] - 1s 35ms/step - loss: 0.5931 - acc: 0.8195 - val_loss: 3.1749 - val_acc: 0.2938\n",
            "Epoch 3/100\n",
            "32/32 [==============================] - 1s 37ms/step - loss: 0.5657 - acc: 0.8305 - val_loss: 2.9645 - val_acc: 0.3139\n",
            "Epoch 4/100\n",
            "32/32 [==============================] - 1s 35ms/step - loss: 0.5042 - acc: 0.8355 - val_loss: 3.1252 - val_acc: 0.2958\n",
            "Epoch 5/100\n",
            "32/32 [==============================] - 1s 35ms/step - loss: 0.5274 - acc: 0.8380 - val_loss: 3.3648 - val_acc: 0.3099\n",
            "Epoch 6/100\n",
            "32/32 [==============================] - 1s 34ms/step - loss: 0.5735 - acc: 0.8265 - val_loss: 3.0838 - val_acc: 0.3139\n",
            "Epoch 7/100\n",
            "32/32 [==============================] - 1s 36ms/step - loss: 0.5550 - acc: 0.8255 - val_loss: 3.0842 - val_acc: 0.2877\n",
            "Epoch 8/100\n",
            "32/32 [==============================] - 1s 35ms/step - loss: 0.5420 - acc: 0.8305 - val_loss: 2.9909 - val_acc: 0.3320\n",
            "Epoch 9/100\n",
            "32/32 [==============================] - 1s 36ms/step - loss: 0.4586 - acc: 0.8660 - val_loss: 3.2146 - val_acc: 0.3018\n",
            "Epoch 10/100\n",
            "32/32 [==============================] - 1s 34ms/step - loss: 0.5403 - acc: 0.8355 - val_loss: 3.0251 - val_acc: 0.2837\n",
            "Epoch 11/100\n",
            "32/32 [==============================] - 1s 34ms/step - loss: 0.5127 - acc: 0.8405 - val_loss: 3.3340 - val_acc: 0.3179\n",
            "Epoch 12/100\n",
            "32/32 [==============================] - 1s 35ms/step - loss: 0.4259 - acc: 0.8735 - val_loss: 3.2902 - val_acc: 0.3119\n",
            "Epoch 13/100\n",
            "32/32 [==============================] - 1s 36ms/step - loss: 0.5732 - acc: 0.8330 - val_loss: 3.1112 - val_acc: 0.2938\n",
            "Epoch 14/100\n",
            "32/32 [==============================] - 1s 37ms/step - loss: 0.4590 - acc: 0.8605 - val_loss: 3.2593 - val_acc: 0.3159\n",
            "Epoch 15/100\n",
            "32/32 [==============================] - 1s 38ms/step - loss: 0.4077 - acc: 0.8815 - val_loss: 3.1987 - val_acc: 0.3018\n",
            "Epoch 16/100\n",
            "32/32 [==============================] - 1s 37ms/step - loss: 0.4216 - acc: 0.8715 - val_loss: 3.1499 - val_acc: 0.3159\n",
            "Epoch 17/100\n",
            "32/32 [==============================] - 1s 36ms/step - loss: 0.4401 - acc: 0.8745 - val_loss: 3.3406 - val_acc: 0.2716\n",
            "Epoch 18/100\n",
            "32/32 [==============================] - 1s 36ms/step - loss: 0.5071 - acc: 0.8425 - val_loss: 3.2886 - val_acc: 0.3078\n",
            "Epoch 19/100\n",
            "32/32 [==============================] - 1s 35ms/step - loss: 0.4604 - acc: 0.8670 - val_loss: 3.7190 - val_acc: 0.2757\n",
            "Epoch 20/100\n",
            "32/32 [==============================] - 1s 34ms/step - loss: 0.5401 - acc: 0.8435 - val_loss: 3.1801 - val_acc: 0.3139\n",
            "Epoch 21/100\n",
            "32/32 [==============================] - 1s 35ms/step - loss: 0.4395 - acc: 0.8725 - val_loss: 3.3471 - val_acc: 0.3038\n",
            "Epoch 22/100\n",
            "32/32 [==============================] - 1s 35ms/step - loss: 0.4093 - acc: 0.8805 - val_loss: 3.5797 - val_acc: 0.2938\n",
            "Epoch 23/100\n",
            "32/32 [==============================] - 1s 36ms/step - loss: 0.4149 - acc: 0.8740 - val_loss: 3.2993 - val_acc: 0.3159\n",
            "Epoch 24/100\n",
            "32/32 [==============================] - 1s 35ms/step - loss: 0.3429 - acc: 0.8950 - val_loss: 4.4779 - val_acc: 0.2535\n",
            "Epoch 25/100\n",
            "32/32 [==============================] - 1s 37ms/step - loss: 0.7004 - acc: 0.7920 - val_loss: 3.1933 - val_acc: 0.2394\n",
            "Epoch 26/100\n",
            "32/32 [==============================] - 1s 36ms/step - loss: 0.5040 - acc: 0.8505 - val_loss: 3.3969 - val_acc: 0.2696\n",
            "Epoch 27/100\n",
            "32/32 [==============================] - 1s 38ms/step - loss: 0.4401 - acc: 0.8730 - val_loss: 3.6778 - val_acc: 0.2716\n",
            "Epoch 28/100\n",
            "32/32 [==============================] - 1s 38ms/step - loss: 0.3726 - acc: 0.8845 - val_loss: 3.5886 - val_acc: 0.2757\n",
            "Epoch 29/100\n",
            "32/32 [==============================] - 1s 35ms/step - loss: 0.4391 - acc: 0.8690 - val_loss: 3.3121 - val_acc: 0.3058\n",
            "Epoch 30/100\n",
            "32/32 [==============================] - 1s 36ms/step - loss: 0.3890 - acc: 0.8820 - val_loss: 3.5012 - val_acc: 0.2797\n",
            "Epoch 31/100\n",
            "32/32 [==============================] - 1s 36ms/step - loss: 0.3705 - acc: 0.8875 - val_loss: 3.6206 - val_acc: 0.3119\n",
            "Epoch 32/100\n",
            "32/32 [==============================] - 1s 35ms/step - loss: 0.3776 - acc: 0.8910 - val_loss: 3.5124 - val_acc: 0.3038\n",
            "Epoch 33/100\n",
            "32/32 [==============================] - 1s 35ms/step - loss: 0.3583 - acc: 0.8985 - val_loss: 3.4885 - val_acc: 0.3038\n",
            "Epoch 34/100\n",
            "32/32 [==============================] - 1s 35ms/step - loss: 0.3273 - acc: 0.9095 - val_loss: 3.5982 - val_acc: 0.3179\n",
            "Epoch 35/100\n",
            "32/32 [==============================] - 1s 35ms/step - loss: 0.2807 - acc: 0.9120 - val_loss: 3.6469 - val_acc: 0.3219\n",
            "Epoch 36/100\n",
            "32/32 [==============================] - 1s 35ms/step - loss: 0.2836 - acc: 0.9120 - val_loss: 3.7361 - val_acc: 0.3018\n",
            "Epoch 37/100\n",
            "32/32 [==============================] - 1s 36ms/step - loss: 0.4024 - acc: 0.8830 - val_loss: 3.2640 - val_acc: 0.3219\n",
            "Epoch 38/100\n",
            "32/32 [==============================] - 1s 37ms/step - loss: 0.3962 - acc: 0.8810 - val_loss: 3.7568 - val_acc: 0.3018\n",
            "Epoch 39/100\n",
            "32/32 [==============================] - 1s 38ms/step - loss: 0.3659 - acc: 0.8900 - val_loss: 3.4315 - val_acc: 0.3239\n",
            "Epoch 40/100\n",
            "32/32 [==============================] - 1s 37ms/step - loss: 0.3188 - acc: 0.9050 - val_loss: 3.1881 - val_acc: 0.3280\n",
            "Epoch 41/100\n",
            "32/32 [==============================] - 1s 35ms/step - loss: 0.3302 - acc: 0.9025 - val_loss: 3.5935 - val_acc: 0.3481\n",
            "Epoch 42/100\n",
            "32/32 [==============================] - 1s 35ms/step - loss: 0.3426 - acc: 0.9025 - val_loss: 3.7846 - val_acc: 0.2716\n",
            "Epoch 43/100\n",
            "32/32 [==============================] - 1s 35ms/step - loss: 0.3284 - acc: 0.9065 - val_loss: 3.4013 - val_acc: 0.3139\n",
            "Epoch 44/100\n",
            "32/32 [==============================] - 1s 35ms/step - loss: 0.2857 - acc: 0.9165 - val_loss: 3.8356 - val_acc: 0.3199\n",
            "Epoch 45/100\n",
            "32/32 [==============================] - 1s 36ms/step - loss: 0.2559 - acc: 0.9225 - val_loss: 4.1825 - val_acc: 0.2877\n",
            "Epoch 46/100\n",
            "32/32 [==============================] - 1s 35ms/step - loss: 0.2402 - acc: 0.9240 - val_loss: 3.6893 - val_acc: 0.3380\n",
            "Epoch 47/100\n",
            "32/32 [==============================] - 1s 35ms/step - loss: 0.3007 - acc: 0.9195 - val_loss: 3.4551 - val_acc: 0.3461\n",
            "Epoch 48/100\n",
            "32/32 [==============================] - 1s 36ms/step - loss: 0.4129 - acc: 0.8880 - val_loss: 3.2758 - val_acc: 0.3179\n",
            "Epoch 49/100\n",
            "32/32 [==============================] - 1s 35ms/step - loss: 0.5702 - acc: 0.8270 - val_loss: 3.4598 - val_acc: 0.3078\n",
            "Epoch 50/100\n",
            "32/32 [==============================] - 1s 38ms/step - loss: 0.3444 - acc: 0.8950 - val_loss: 3.5794 - val_acc: 0.3400\n",
            "Epoch 51/100\n",
            "32/32 [==============================] - 1s 36ms/step - loss: 0.2982 - acc: 0.9165 - val_loss: 3.5827 - val_acc: 0.3199\n",
            "Epoch 52/100\n",
            "32/32 [==============================] - 1s 36ms/step - loss: 0.3818 - acc: 0.8870 - val_loss: 3.5731 - val_acc: 0.3078\n",
            "Epoch 53/100\n",
            "32/32 [==============================] - 1s 36ms/step - loss: 0.3092 - acc: 0.9110 - val_loss: 3.8962 - val_acc: 0.3219\n",
            "Epoch 54/100\n",
            "32/32 [==============================] - 1s 35ms/step - loss: 0.4388 - acc: 0.8685 - val_loss: 3.8702 - val_acc: 0.2656\n",
            "Epoch 55/100\n",
            "32/32 [==============================] - 1s 34ms/step - loss: 0.3436 - acc: 0.9005 - val_loss: 3.9154 - val_acc: 0.3099\n",
            "Epoch 56/100\n",
            "32/32 [==============================] - 1s 34ms/step - loss: 0.2359 - acc: 0.9310 - val_loss: 3.7142 - val_acc: 0.3300\n",
            "Epoch 57/100\n",
            "32/32 [==============================] - 1s 34ms/step - loss: 0.2378 - acc: 0.9315 - val_loss: 4.1595 - val_acc: 0.3139\n",
            "Epoch 58/100\n",
            "32/32 [==============================] - 1s 35ms/step - loss: 0.1822 - acc: 0.9470 - val_loss: 4.3478 - val_acc: 0.3078\n",
            "Epoch 59/100\n",
            "32/32 [==============================] - 1s 34ms/step - loss: 0.2628 - acc: 0.9215 - val_loss: 3.9852 - val_acc: 0.3058\n",
            "Epoch 60/100\n",
            "32/32 [==============================] - 1s 35ms/step - loss: 0.4328 - acc: 0.8810 - val_loss: 3.5656 - val_acc: 0.3119\n",
            "Epoch 61/100\n",
            "32/32 [==============================] - 1s 34ms/step - loss: 0.2774 - acc: 0.9195 - val_loss: 4.1954 - val_acc: 0.3018\n",
            "Epoch 62/100\n",
            "32/32 [==============================] - 1s 36ms/step - loss: 0.4973 - acc: 0.8610 - val_loss: 3.2115 - val_acc: 0.3018\n",
            "Epoch 63/100\n",
            "32/32 [==============================] - 1s 37ms/step - loss: 0.2583 - acc: 0.9250 - val_loss: 3.8780 - val_acc: 0.3260\n",
            "Epoch 64/100\n",
            "32/32 [==============================] - 1s 38ms/step - loss: 0.2439 - acc: 0.9240 - val_loss: 4.1403 - val_acc: 0.3018\n",
            "Epoch 65/100\n",
            "32/32 [==============================] - 1s 35ms/step - loss: 0.2400 - acc: 0.9275 - val_loss: 4.2487 - val_acc: 0.3239\n",
            "Epoch 66/100\n",
            "32/32 [==============================] - 1s 34ms/step - loss: 0.2555 - acc: 0.9265 - val_loss: 3.4722 - val_acc: 0.3099\n",
            "Epoch 67/100\n",
            "32/32 [==============================] - 1s 36ms/step - loss: 0.2072 - acc: 0.9365 - val_loss: 4.0227 - val_acc: 0.3018\n",
            "Epoch 68/100\n",
            "32/32 [==============================] - 1s 35ms/step - loss: 0.3035 - acc: 0.9130 - val_loss: 3.9082 - val_acc: 0.3139\n",
            "Epoch 69/100\n",
            "32/32 [==============================] - 1s 34ms/step - loss: 0.3142 - acc: 0.9030 - val_loss: 3.6370 - val_acc: 0.3119\n",
            "Epoch 70/100\n",
            "32/32 [==============================] - 1s 34ms/step - loss: 0.2191 - acc: 0.9325 - val_loss: 3.6062 - val_acc: 0.3260\n",
            "Epoch 71/100\n",
            "32/32 [==============================] - 1s 36ms/step - loss: 0.3302 - acc: 0.9085 - val_loss: 3.9002 - val_acc: 0.3219\n",
            "Epoch 72/100\n",
            "32/32 [==============================] - 1s 34ms/step - loss: 0.2675 - acc: 0.9205 - val_loss: 3.7478 - val_acc: 0.2897\n",
            "Epoch 73/100\n",
            "32/32 [==============================] - 1s 36ms/step - loss: 0.2220 - acc: 0.9335 - val_loss: 4.4952 - val_acc: 0.2696\n",
            "Epoch 74/100\n",
            "32/32 [==============================] - 1s 37ms/step - loss: 0.2814 - acc: 0.9165 - val_loss: 4.2458 - val_acc: 0.3239\n",
            "Epoch 75/100\n",
            "32/32 [==============================] - 1s 39ms/step - loss: 0.3009 - acc: 0.9185 - val_loss: 3.4740 - val_acc: 0.3481\n",
            "Epoch 76/100\n",
            "32/32 [==============================] - 1s 37ms/step - loss: 0.2163 - acc: 0.9370 - val_loss: 4.2450 - val_acc: 0.2958\n",
            "Epoch 77/100\n",
            "32/32 [==============================] - 1s 36ms/step - loss: 0.1803 - acc: 0.9415 - val_loss: 4.1842 - val_acc: 0.3239\n",
            "Epoch 78/100\n",
            "32/32 [==============================] - 1s 35ms/step - loss: 0.1512 - acc: 0.9535 - val_loss: 4.2398 - val_acc: 0.3179\n",
            "Epoch 79/100\n",
            "32/32 [==============================] - 1s 36ms/step - loss: 0.1703 - acc: 0.9530 - val_loss: 4.5013 - val_acc: 0.3360\n",
            "Epoch 80/100\n",
            "32/32 [==============================] - 1s 36ms/step - loss: 0.1746 - acc: 0.9460 - val_loss: 4.6932 - val_acc: 0.3078\n",
            "Epoch 81/100\n",
            "32/32 [==============================] - 1s 34ms/step - loss: 0.2560 - acc: 0.9295 - val_loss: 4.2109 - val_acc: 0.3239\n",
            "Epoch 82/100\n",
            "32/32 [==============================] - 1s 36ms/step - loss: 0.1747 - acc: 0.9550 - val_loss: 4.2863 - val_acc: 0.3199\n",
            "Epoch 83/100\n",
            "32/32 [==============================] - 1s 35ms/step - loss: 0.2461 - acc: 0.9300 - val_loss: 4.0504 - val_acc: 0.3179\n",
            "Epoch 84/100\n",
            "32/32 [==============================] - 1s 34ms/step - loss: 0.2494 - acc: 0.9250 - val_loss: 4.9621 - val_acc: 0.3300\n",
            "Epoch 85/100\n",
            "32/32 [==============================] - 1s 35ms/step - loss: 0.2620 - acc: 0.9260 - val_loss: 3.8336 - val_acc: 0.3078\n",
            "Epoch 86/100\n",
            "32/32 [==============================] - 1s 36ms/step - loss: 0.1938 - acc: 0.9405 - val_loss: 4.2616 - val_acc: 0.3239\n",
            "Epoch 87/100\n",
            "32/32 [==============================] - 1s 38ms/step - loss: 0.2052 - acc: 0.9420 - val_loss: 4.1789 - val_acc: 0.3018\n",
            "Epoch 88/100\n",
            "32/32 [==============================] - 1s 37ms/step - loss: 0.1585 - acc: 0.9530 - val_loss: 4.5848 - val_acc: 0.3360\n",
            "Epoch 89/100\n",
            "32/32 [==============================] - 1s 36ms/step - loss: 0.1874 - acc: 0.9510 - val_loss: 4.4282 - val_acc: 0.3421\n",
            "Epoch 90/100\n",
            "32/32 [==============================] - 1s 36ms/step - loss: 0.2157 - acc: 0.9410 - val_loss: 4.2138 - val_acc: 0.3300\n",
            "Epoch 91/100\n",
            "32/32 [==============================] - 1s 36ms/step - loss: 0.1402 - acc: 0.9575 - val_loss: 4.2808 - val_acc: 0.3320\n",
            "Epoch 92/100\n",
            "32/32 [==============================] - 1s 36ms/step - loss: 0.1393 - acc: 0.9615 - val_loss: 4.6838 - val_acc: 0.3421\n",
            "Epoch 93/100\n",
            "32/32 [==============================] - 1s 35ms/step - loss: 0.1460 - acc: 0.9595 - val_loss: 4.7417 - val_acc: 0.3400\n",
            "Epoch 94/100\n",
            "32/32 [==============================] - 1s 34ms/step - loss: 0.2002 - acc: 0.9430 - val_loss: 4.4505 - val_acc: 0.3099\n",
            "Epoch 95/100\n",
            "32/32 [==============================] - 1s 35ms/step - loss: 0.1741 - acc: 0.9495 - val_loss: 4.2009 - val_acc: 0.3280\n",
            "Epoch 96/100\n",
            "32/32 [==============================] - 1s 35ms/step - loss: 0.1440 - acc: 0.9585 - val_loss: 4.2705 - val_acc: 0.3219\n",
            "Epoch 97/100\n",
            "32/32 [==============================] - 1s 35ms/step - loss: 0.2613 - acc: 0.9325 - val_loss: 4.0096 - val_acc: 0.3119\n",
            "Epoch 98/100\n",
            "32/32 [==============================] - 1s 38ms/step - loss: 0.2118 - acc: 0.9350 - val_loss: 3.8299 - val_acc: 0.3260\n",
            "Epoch 99/100\n",
            "32/32 [==============================] - 1s 37ms/step - loss: 0.1920 - acc: 0.9480 - val_loss: 4.1482 - val_acc: 0.3421\n",
            "Epoch 100/100\n",
            "32/32 [==============================] - 1s 38ms/step - loss: 0.1641 - acc: 0.9590 - val_loss: 4.1301 - val_acc: 0.3219\n"
          ]
        }
      ],
      "source": [
        "epochs = 100\n",
        "history = model_lstm.fit(X_train, encoded_train, epochs=epochs, batch_size=64, validation_data=(X_dev, encoded_dev), shuffle=True)"
      ]
    },
    {
      "cell_type": "code",
      "execution_count": 62,
      "id": "bb77c9b4",
      "metadata": {
        "id": "bb77c9b4",
        "colab": {
          "base_uri": "https://localhost:8080/",
          "height": 350
        },
        "outputId": "0100238b-1e57-41b5-8413-56d962b478a2"
      },
      "outputs": [
        {
          "output_type": "display_data",
          "data": {
            "text/plain": [
              "<Figure size 1080x360 with 2 Axes>"
            ],
            "image/png": "[encoded data removed]"
          },
          "metadata": {
            "needs_background": "light"
          }
        }
      ],
      "source": [
        "history_dict=history.history\n",
        "loss_values=history_dict['loss']\n",
        "acc_values=history_dict['acc']\n",
        "val_loss_values = history_dict['val_loss']\n",
        "val_acc_values=history_dict['val_acc']\n",
        "epoch=range(1,epochs + 1) # need an x-axis\n",
        "fig,(ax1,ax2)=plt.subplots(1,2,figsize=(15,5))\n",
        "ax1.plot(epoch,loss_values,'co',label='Training Loss')\n",
        "ax1.plot(epoch,val_loss_values,'m', label='Validation Loss')\n",
        "ax1.set_title('Training and validation loss')\n",
        "ax1.set_xlabel('Epochs')\n",
        "ax1.set_ylabel('Loss')\n",
        "ax1.legend()\n",
        "ax2.plot(epoch,acc_values,'co', label='Training accuracy')\n",
        "ax2.plot(epoch,val_acc_values,'m',label='Validation accuracy')\n",
        "ax2.set_title('Training and validation accuracy')\n",
        "ax2.set_xlabel('Epochs')\n",
        "ax2.set_ylabel('Accuracy')\n",
        "ax2.legend()\n",
        "plt.show()"
      ]
    },
    {
      "cell_type": "markdown",
      "id": "2104d2e9",
      "metadata": {
        "id": "2104d2e9"
      },
      "source": [
        "CNN Model"
      ]
    },
    {
      "cell_type": "code",
      "execution_count": 109,
      "id": "de6a8344",
      "metadata": {
        "colab": {
          "base_uri": "https://localhost:8080/"
        },
        "id": "de6a8344",
        "outputId": "6629aa67-89b4-4802-95e9-083e5e0ac63d"
      },
      "outputs": [
        {
          "output_type": "stream",
          "name": "stdout",
          "text": [
            "Epoch 1/100\n",
            "32/32 [==============================] - 3s 18ms/step - loss: 1.9281 - acc: 0.3055 - val_loss: 2.1439 - val_acc: 0.2857\n",
            "Epoch 2/100\n",
            "32/32 [==============================] - 0s 10ms/step - loss: 0.8502 - acc: 0.7345 - val_loss: 1.8137 - val_acc: 0.4588\n",
            "Epoch 3/100\n",
            "32/32 [==============================] - 0s 11ms/step - loss: 0.5792 - acc: 0.8250 - val_loss: 2.1549 - val_acc: 0.3280\n",
            "Epoch 4/100\n",
            "32/32 [==============================] - 0s 10ms/step - loss: 0.4585 - acc: 0.8585 - val_loss: 1.7891 - val_acc: 0.4366\n",
            "Epoch 5/100\n",
            "32/32 [==============================] - 0s 9ms/step - loss: 0.3683 - acc: 0.8830 - val_loss: 1.8533 - val_acc: 0.4970\n",
            "Epoch 6/100\n",
            "32/32 [==============================] - 0s 10ms/step - loss: 0.2887 - acc: 0.9125 - val_loss: 1.8576 - val_acc: 0.4930\n",
            "Epoch 7/100\n",
            "32/32 [==============================] - 0s 9ms/step - loss: 0.2623 - acc: 0.9225 - val_loss: 1.8454 - val_acc: 0.4970\n",
            "Epoch 8/100\n",
            "32/32 [==============================] - 0s 10ms/step - loss: 0.2162 - acc: 0.9285 - val_loss: 2.2466 - val_acc: 0.4668\n",
            "Epoch 9/100\n",
            "32/32 [==============================] - 0s 9ms/step - loss: 0.2260 - acc: 0.9295 - val_loss: 1.9235 - val_acc: 0.5010\n",
            "Epoch 10/100\n",
            "32/32 [==============================] - 0s 11ms/step - loss: 0.1668 - acc: 0.9450 - val_loss: 1.9960 - val_acc: 0.5191\n",
            "Epoch 11/100\n",
            "32/32 [==============================] - 0s 9ms/step - loss: 0.1537 - acc: 0.9495 - val_loss: 1.9329 - val_acc: 0.5171\n",
            "Epoch 12/100\n",
            "32/32 [==============================] - 0s 9ms/step - loss: 0.0998 - acc: 0.9695 - val_loss: 2.3078 - val_acc: 0.4789\n",
            "Epoch 13/100\n",
            "32/32 [==============================] - 0s 10ms/step - loss: 0.1136 - acc: 0.9630 - val_loss: 2.6267 - val_acc: 0.4527\n",
            "Epoch 14/100\n",
            "32/32 [==============================] - 0s 10ms/step - loss: 0.1382 - acc: 0.9550 - val_loss: 2.5416 - val_acc: 0.4507\n",
            "Epoch 15/100\n",
            "32/32 [==============================] - 0s 11ms/step - loss: 0.1011 - acc: 0.9695 - val_loss: 1.8988 - val_acc: 0.5272\n",
            "Epoch 16/100\n",
            "32/32 [==============================] - 0s 13ms/step - loss: 0.0928 - acc: 0.9740 - val_loss: 2.1544 - val_acc: 0.4869\n",
            "Epoch 17/100\n",
            "32/32 [==============================] - 0s 12ms/step - loss: 0.0626 - acc: 0.9775 - val_loss: 2.6919 - val_acc: 0.4648\n",
            "Epoch 18/100\n",
            "32/32 [==============================] - 0s 12ms/step - loss: 0.0985 - acc: 0.9680 - val_loss: 2.2176 - val_acc: 0.5231\n",
            "Epoch 19/100\n",
            "32/32 [==============================] - 0s 12ms/step - loss: 0.0621 - acc: 0.9800 - val_loss: 2.0470 - val_acc: 0.5433\n",
            "Epoch 20/100\n",
            "32/32 [==============================] - 0s 12ms/step - loss: 0.1048 - acc: 0.9690 - val_loss: 1.9377 - val_acc: 0.5493\n",
            "Epoch 21/100\n",
            "32/32 [==============================] - 0s 12ms/step - loss: 0.0459 - acc: 0.9845 - val_loss: 2.4833 - val_acc: 0.5111\n",
            "Epoch 22/100\n",
            "32/32 [==============================] - 0s 11ms/step - loss: 0.0499 - acc: 0.9840 - val_loss: 2.3587 - val_acc: 0.5211\n",
            "Epoch 23/100\n",
            "32/32 [==============================] - 0s 12ms/step - loss: 0.1318 - acc: 0.9580 - val_loss: 2.4750 - val_acc: 0.5191\n",
            "Epoch 24/100\n",
            "32/32 [==============================] - 0s 12ms/step - loss: 0.0631 - acc: 0.9780 - val_loss: 2.2061 - val_acc: 0.5392\n",
            "Epoch 25/100\n",
            "32/32 [==============================] - 0s 12ms/step - loss: 0.0280 - acc: 0.9920 - val_loss: 2.4969 - val_acc: 0.5231\n",
            "Epoch 26/100\n",
            "32/32 [==============================] - 0s 13ms/step - loss: 0.0267 - acc: 0.9915 - val_loss: 2.5721 - val_acc: 0.5412\n",
            "Epoch 27/100\n",
            "32/32 [==============================] - 0s 12ms/step - loss: 0.0108 - acc: 0.9975 - val_loss: 2.7786 - val_acc: 0.5252\n",
            "Epoch 28/100\n",
            "32/32 [==============================] - 0s 9ms/step - loss: 0.0244 - acc: 0.9925 - val_loss: 2.6902 - val_acc: 0.5191\n",
            "Epoch 29/100\n",
            "32/32 [==============================] - 0s 9ms/step - loss: 0.0314 - acc: 0.9890 - val_loss: 2.5091 - val_acc: 0.5332\n",
            "Epoch 30/100\n",
            "32/32 [==============================] - 0s 9ms/step - loss: 0.0332 - acc: 0.9835 - val_loss: 2.8626 - val_acc: 0.4748\n",
            "Epoch 31/100\n",
            "32/32 [==============================] - 0s 10ms/step - loss: 0.0196 - acc: 0.9930 - val_loss: 2.4834 - val_acc: 0.5292\n",
            "Epoch 32/100\n",
            "32/32 [==============================] - 0s 9ms/step - loss: 0.0379 - acc: 0.9860 - val_loss: 2.6005 - val_acc: 0.5392\n",
            "Epoch 33/100\n",
            "32/32 [==============================] - 0s 10ms/step - loss: 0.0525 - acc: 0.9835 - val_loss: 2.6658 - val_acc: 0.5231\n",
            "Epoch 34/100\n",
            "32/32 [==============================] - 0s 10ms/step - loss: 0.0239 - acc: 0.9940 - val_loss: 2.7081 - val_acc: 0.5533\n",
            "Epoch 35/100\n",
            "32/32 [==============================] - 0s 9ms/step - loss: 0.0166 - acc: 0.9950 - val_loss: 2.7093 - val_acc: 0.5131\n",
            "Epoch 36/100\n",
            "32/32 [==============================] - 0s 10ms/step - loss: 0.0152 - acc: 0.9945 - val_loss: 2.5831 - val_acc: 0.5674\n",
            "Epoch 37/100\n",
            "32/32 [==============================] - 0s 9ms/step - loss: 0.0094 - acc: 0.9970 - val_loss: 2.6959 - val_acc: 0.5674\n",
            "Epoch 38/100\n",
            "32/32 [==============================] - 0s 10ms/step - loss: 0.0123 - acc: 0.9965 - val_loss: 2.6674 - val_acc: 0.5433\n",
            "Epoch 39/100\n",
            "32/32 [==============================] - 0s 9ms/step - loss: 0.0106 - acc: 0.9975 - val_loss: 3.2224 - val_acc: 0.4909\n",
            "Epoch 40/100\n",
            "32/32 [==============================] - 0s 9ms/step - loss: 0.0321 - acc: 0.9915 - val_loss: 2.5327 - val_acc: 0.5372\n",
            "Epoch 41/100\n",
            "32/32 [==============================] - 0s 9ms/step - loss: 0.0344 - acc: 0.9895 - val_loss: 2.3621 - val_acc: 0.5473\n",
            "Epoch 42/100\n",
            "32/32 [==============================] - 0s 9ms/step - loss: 0.0327 - acc: 0.9890 - val_loss: 2.4799 - val_acc: 0.5312\n",
            "Epoch 43/100\n",
            "32/32 [==============================] - 0s 10ms/step - loss: 0.0141 - acc: 0.9950 - val_loss: 2.4813 - val_acc: 0.5292\n",
            "Epoch 44/100\n",
            "32/32 [==============================] - 0s 9ms/step - loss: 0.0091 - acc: 0.9970 - val_loss: 2.8215 - val_acc: 0.5372\n",
            "Epoch 45/100\n",
            "32/32 [==============================] - 0s 9ms/step - loss: 0.0156 - acc: 0.9935 - val_loss: 2.5757 - val_acc: 0.5453\n",
            "Epoch 46/100\n",
            "32/32 [==============================] - 0s 9ms/step - loss: 0.0679 - acc: 0.9720 - val_loss: 2.4559 - val_acc: 0.5091\n",
            "Epoch 47/100\n",
            "32/32 [==============================] - 0s 10ms/step - loss: 0.0352 - acc: 0.9885 - val_loss: 2.2097 - val_acc: 0.5513\n",
            "Epoch 48/100\n",
            "32/32 [==============================] - 0s 9ms/step - loss: 0.0203 - acc: 0.9945 - val_loss: 2.8605 - val_acc: 0.4869\n",
            "Epoch 49/100\n",
            "32/32 [==============================] - 0s 10ms/step - loss: 0.0139 - acc: 0.9950 - val_loss: 2.5223 - val_acc: 0.5070\n",
            "Epoch 50/100\n",
            "32/32 [==============================] - 0s 9ms/step - loss: 0.0079 - acc: 0.9980 - val_loss: 2.4188 - val_acc: 0.5533\n",
            "Epoch 51/100\n",
            "32/32 [==============================] - 0s 9ms/step - loss: 0.0022 - acc: 1.0000 - val_loss: 2.5849 - val_acc: 0.5513\n",
            "Epoch 52/100\n",
            "32/32 [==============================] - 0s 9ms/step - loss: 0.0021 - acc: 0.9995 - val_loss: 2.6225 - val_acc: 0.5453\n",
            "Epoch 53/100\n",
            "32/32 [==============================] - 0s 9ms/step - loss: 0.0013 - acc: 1.0000 - val_loss: 2.7491 - val_acc: 0.5694\n",
            "Epoch 54/100\n",
            "32/32 [==============================] - 0s 9ms/step - loss: 0.0020 - acc: 0.9990 - val_loss: 2.7767 - val_acc: 0.5634\n",
            "Epoch 55/100\n",
            "32/32 [==============================] - 0s 9ms/step - loss: 0.0034 - acc: 0.9990 - val_loss: 3.0975 - val_acc: 0.5553\n",
            "Epoch 56/100\n",
            "32/32 [==============================] - 0s 10ms/step - loss: 0.0039 - acc: 0.9990 - val_loss: 3.2217 - val_acc: 0.5453\n",
            "Epoch 57/100\n",
            "32/32 [==============================] - 0s 9ms/step - loss: 0.0058 - acc: 0.9985 - val_loss: 3.3259 - val_acc: 0.5171\n",
            "Epoch 58/100\n",
            "32/32 [==============================] - 0s 10ms/step - loss: 0.0083 - acc: 0.9970 - val_loss: 3.4024 - val_acc: 0.5553\n",
            "Epoch 59/100\n",
            "32/32 [==============================] - 0s 11ms/step - loss: 0.0147 - acc: 0.9945 - val_loss: 3.9755 - val_acc: 0.5070\n",
            "Epoch 60/100\n",
            "32/32 [==============================] - 0s 13ms/step - loss: 0.0378 - acc: 0.9890 - val_loss: 2.7965 - val_acc: 0.5412\n",
            "Epoch 61/100\n",
            "32/32 [==============================] - 0s 11ms/step - loss: 0.0194 - acc: 0.9915 - val_loss: 2.8092 - val_acc: 0.5332\n",
            "Epoch 62/100\n",
            "32/32 [==============================] - 0s 11ms/step - loss: 0.0194 - acc: 0.9925 - val_loss: 3.0562 - val_acc: 0.5412\n",
            "Epoch 63/100\n",
            "32/32 [==============================] - 0s 11ms/step - loss: 0.0202 - acc: 0.9920 - val_loss: 3.2861 - val_acc: 0.5392\n",
            "Epoch 64/100\n",
            "32/32 [==============================] - 0s 11ms/step - loss: 0.0149 - acc: 0.9940 - val_loss: 3.5920 - val_acc: 0.5171\n",
            "Epoch 65/100\n",
            "32/32 [==============================] - 0s 12ms/step - loss: 0.0188 - acc: 0.9925 - val_loss: 2.7594 - val_acc: 0.5714\n",
            "Epoch 66/100\n",
            "32/32 [==============================] - 0s 11ms/step - loss: 0.0161 - acc: 0.9955 - val_loss: 2.5365 - val_acc: 0.5815\n",
            "Epoch 67/100\n",
            "32/32 [==============================] - 0s 12ms/step - loss: 0.0251 - acc: 0.9905 - val_loss: 2.9827 - val_acc: 0.5312\n",
            "Epoch 68/100\n",
            "32/32 [==============================] - 0s 13ms/step - loss: 0.0209 - acc: 0.9925 - val_loss: 2.7943 - val_acc: 0.5453\n",
            "Epoch 69/100\n",
            "32/32 [==============================] - 0s 12ms/step - loss: 0.0178 - acc: 0.9950 - val_loss: 2.8447 - val_acc: 0.5594\n",
            "Epoch 70/100\n",
            "32/32 [==============================] - 0s 12ms/step - loss: 0.0063 - acc: 0.9980 - val_loss: 2.7280 - val_acc: 0.5533\n",
            "Epoch 71/100\n",
            "32/32 [==============================] - 0s 13ms/step - loss: 0.0073 - acc: 0.9975 - val_loss: 2.9012 - val_acc: 0.5252\n",
            "Epoch 72/100\n",
            "32/32 [==============================] - 0s 13ms/step - loss: 0.0090 - acc: 0.9960 - val_loss: 2.9690 - val_acc: 0.5272\n",
            "Epoch 73/100\n",
            "32/32 [==============================] - 0s 11ms/step - loss: 0.0214 - acc: 0.9925 - val_loss: 2.9591 - val_acc: 0.5573\n",
            "Epoch 74/100\n",
            "32/32 [==============================] - 0s 11ms/step - loss: 0.0227 - acc: 0.9915 - val_loss: 3.7189 - val_acc: 0.4889\n",
            "Epoch 75/100\n",
            "32/32 [==============================] - 0s 10ms/step - loss: 0.0220 - acc: 0.9920 - val_loss: 3.0827 - val_acc: 0.5091\n",
            "Epoch 76/100\n",
            "32/32 [==============================] - 0s 11ms/step - loss: 0.0167 - acc: 0.9940 - val_loss: 3.1089 - val_acc: 0.5231\n",
            "Epoch 77/100\n",
            "32/32 [==============================] - 0s 9ms/step - loss: 0.0213 - acc: 0.9930 - val_loss: 2.8967 - val_acc: 0.5795\n",
            "Epoch 78/100\n",
            "32/32 [==============================] - 0s 10ms/step - loss: 0.0098 - acc: 0.9985 - val_loss: 3.1914 - val_acc: 0.4849\n",
            "Epoch 79/100\n",
            "32/32 [==============================] - 0s 10ms/step - loss: 0.0086 - acc: 0.9965 - val_loss: 2.8242 - val_acc: 0.5252\n",
            "Epoch 80/100\n",
            "32/32 [==============================] - 0s 10ms/step - loss: 0.0119 - acc: 0.9965 - val_loss: 2.9798 - val_acc: 0.5332\n",
            "Epoch 81/100\n",
            "32/32 [==============================] - 0s 10ms/step - loss: 0.0086 - acc: 0.9970 - val_loss: 2.9000 - val_acc: 0.5614\n",
            "Epoch 82/100\n",
            "32/32 [==============================] - 0s 11ms/step - loss: 0.0088 - acc: 0.9985 - val_loss: 3.3789 - val_acc: 0.5252\n",
            "Epoch 83/100\n",
            "32/32 [==============================] - 0s 9ms/step - loss: 0.0113 - acc: 0.9965 - val_loss: 3.1751 - val_acc: 0.5453\n",
            "Epoch 84/100\n",
            "32/32 [==============================] - 0s 9ms/step - loss: 0.0254 - acc: 0.9925 - val_loss: 2.5873 - val_acc: 0.5634\n",
            "Epoch 85/100\n",
            "32/32 [==============================] - 0s 9ms/step - loss: 0.0058 - acc: 0.9985 - val_loss: 3.3496 - val_acc: 0.5352\n",
            "Epoch 86/100\n",
            "32/32 [==============================] - 0s 10ms/step - loss: 0.0037 - acc: 0.9985 - val_loss: 3.0859 - val_acc: 0.5312\n",
            "Epoch 87/100\n",
            "32/32 [==============================] - 0s 9ms/step - loss: 0.0033 - acc: 0.9980 - val_loss: 3.5152 - val_acc: 0.5211\n",
            "Epoch 88/100\n",
            "32/32 [==============================] - 0s 10ms/step - loss: 0.0014 - acc: 0.9995 - val_loss: 3.4403 - val_acc: 0.5372\n",
            "Epoch 89/100\n",
            "32/32 [==============================] - 0s 10ms/step - loss: 0.0028 - acc: 0.9985 - val_loss: 3.3573 - val_acc: 0.5453\n",
            "Epoch 90/100\n",
            "32/32 [==============================] - 0s 9ms/step - loss: 0.0028 - acc: 0.9990 - val_loss: 3.3515 - val_acc: 0.5392\n",
            "Epoch 91/100\n",
            "32/32 [==============================] - 0s 9ms/step - loss: 0.0304 - acc: 0.9905 - val_loss: 2.9781 - val_acc: 0.5292\n",
            "Epoch 92/100\n",
            "32/32 [==============================] - 0s 11ms/step - loss: 0.0216 - acc: 0.9940 - val_loss: 2.7260 - val_acc: 0.5634\n",
            "Epoch 93/100\n",
            "32/32 [==============================] - 0s 10ms/step - loss: 0.0136 - acc: 0.9960 - val_loss: 2.6294 - val_acc: 0.5654\n",
            "Epoch 94/100\n",
            "32/32 [==============================] - 0s 9ms/step - loss: 0.0162 - acc: 0.9955 - val_loss: 2.8402 - val_acc: 0.5694\n",
            "Epoch 95/100\n",
            "32/32 [==============================] - 0s 9ms/step - loss: 0.0084 - acc: 0.9965 - val_loss: 2.6905 - val_acc: 0.5714\n",
            "Epoch 96/100\n",
            "32/32 [==============================] - 0s 9ms/step - loss: 0.0035 - acc: 0.9990 - val_loss: 2.9574 - val_acc: 0.5553\n",
            "Epoch 97/100\n",
            "32/32 [==============================] - 0s 10ms/step - loss: 0.0067 - acc: 0.9980 - val_loss: 3.5552 - val_acc: 0.5614\n",
            "Epoch 98/100\n",
            "32/32 [==============================] - 0s 10ms/step - loss: 0.0042 - acc: 0.9975 - val_loss: 3.1014 - val_acc: 0.5674\n",
            "Epoch 99/100\n",
            "32/32 [==============================] - 0s 10ms/step - loss: 0.0026 - acc: 0.9985 - val_loss: 3.2041 - val_acc: 0.5634\n",
            "Epoch 100/100\n",
            "32/32 [==============================] - 0s 11ms/step - loss: 0.0040 - acc: 0.9990 - val_loss: 3.1822 - val_acc: 0.5553\n"
          ]
        },
        {
          "output_type": "execute_result",
          "data": {
            "text/plain": [
              "0.622266411781311"
            ]
          },
          "metadata": {},
          "execution_count": 109
        }
      ],
      "source": [
        "n_timesteps, n_features, n_outputs = X_train.shape[1], X_train.shape[2], 10\n",
        "\n",
        "def get_CNN(filters:list(), kernels:list(), activations:list(), dropout:float, pooling:int):\n",
        "    '''\n",
        "        The CNN is made of Conv1D layers, in some order described by the user, usually followed by a dropout layer in order \n",
        "        to avoid overfitting. After it they're followed by a Pooling filter, in order to drop the number of parameters and save\n",
        "        computational costs. At the end there's a Flattening layer and a Fully connected - Dense layer for the output.\n",
        "    '''\n",
        "    if len(filters) != len(kernels) or len(filters) != len(activations):\n",
        "        return None\n",
        "    \n",
        "    model = keras.Sequential()\n",
        "    \n",
        "    for i in range(0, len(filters), 2):\n",
        "        if i == 0:        \n",
        "            model.add(Conv1D(filters=filters[i], kernel_size=kernels[i], activation=activations[i], input_shape=(n_timesteps,n_features)))\n",
        "        else:\n",
        "            model.add(Conv1D(filters=filters[i], kernel_size=kernels[i], activation=activations[i]))\n",
        "        if i+1 == len(filters):\n",
        "            continue\n",
        "        model.add(Conv1D(filters=filters[i+1], kernel_size=kernels[i+1], activation=activations[i+1]))\n",
        "        model.add(Dropout(dropout))\n",
        "        model.add(MaxPooling1D(pool_size=pooling))\n",
        "\n",
        "    \n",
        "    model.add(Flatten())\n",
        "    model.add(Dense(50, activation='relu'))\n",
        "    model.add(Dense(50, activation='relu'))\n",
        "    model.add(Dense(50, activation='relu'))\n",
        "    model.add(Dense(n_outputs, activation='softmax'))\n",
        "    model.compile(loss='categorical_crossentropy', optimizer='adam', metrics=['acc'])\n",
        "\n",
        "    return model\n",
        "\n",
        "model = get_CNN([84, 84, 64, 32, 16], [5, 2, 2, 2, 2], ['relu', 'relu', 'relu', 'relu', 'relu'], 0.25, 2)\n",
        "\n",
        "verbose, epochs, batch_size = 1, 100, 64\n",
        "\n",
        "history = model.fit(X_train, encoded_train, epochs=epochs, batch_size=batch_size, validation_data=(X_dev, encoded_dev), shuffle=True, verbose=verbose)\n",
        "_, accuracy = model.evaluate(X_test, encoded_test, batch_size=batch_size, verbose=0)\n",
        "\n",
        "accuracy\n",
        "\n"
      ]
    },
    {
      "cell_type": "code",
      "source": [
        "history_dict=history.history\n",
        "loss_values=history_dict['loss']\n",
        "acc_values=history_dict['acc']\n",
        "val_loss_values = history_dict['val_loss']\n",
        "val_acc_values=history_dict['val_acc']\n",
        "epoch=range(1,epochs + 1) # need an x-axis\n",
        "fig,(ax1,ax2)=plt.subplots(1,2,figsize=(15,5))\n",
        "ax1.plot(epoch,loss_values,'co',label='Training Loss')\n",
        "ax1.plot(epoch,val_loss_values,'m', label='Validation Loss')\n",
        "ax1.set_title('Training and validation loss')\n",
        "ax1.set_xlabel('Epochs')\n",
        "ax1.set_ylabel('Loss')\n",
        "ax1.legend()\n",
        "ax2.plot(epoch,acc_values,'co', label='Training accuracy')\n",
        "ax2.plot(epoch,val_acc_values,'m',label='Validation accuracy')\n",
        "ax2.set_title('Training and validation accuracy')\n",
        "ax2.set_xlabel('Epochs')\n",
        "ax2.set_ylabel('Accuracy')\n",
        "ax2.legend()\n",
        "plt.show()"
      ],
      "metadata": {
        "colab": {
          "base_uri": "https://localhost:8080/",
          "height": 350
        },
        "id": "URu_2PTMCX6g",
        "outputId": "736ece3f-e0c1-4359-c4c7-7b29b0f26c2f"
      },
      "id": "URu_2PTMCX6g",
      "execution_count": 110,
      "outputs": [
        {
          "output_type": "display_data",
          "data": {
            "text/plain": [
              "<Figure size 1080x360 with 2 Axes>"
            ],
            "image/png": "[encoded data removed]"
          },
          "metadata": {
            "needs_background": "light"
          }
        }
      ]
    },
    {
      "cell_type": "markdown",
      "id": "3a044339",
      "metadata": {
        "id": "3a044339"
      },
      "source": [
        "Transformers Model"
      ]
    },
    {
      "cell_type": "code",
      "execution_count": 69,
      "id": "b15d7ea3",
      "metadata": {
        "colab": {
          "base_uri": "https://localhost:8080/"
        },
        "id": "b15d7ea3",
        "outputId": "f6e7325d-bbb2-4acc-9282-fbc4fab4f6f3"
      },
      "outputs": [
        {
          "output_type": "stream",
          "name": "stdout",
          "text": [
            "Looking in indexes: https://pypi.org/simple, https://us-python.pkg.dev/colab-wheels/public/simple/\n",
            "Collecting transformers\n",
            "  Downloading transformers-4.27.2-py3-none-any.whl (6.8 MB)\n",
            "\u001b[2K     \u001b[90m━━━━━━━━━━━━━━━━━━━━━━━━━━━━━━━━━━━━━━━━\u001b[0m \u001b[32m6.8/6.8 MB\u001b[0m \u001b[31m57.5 MB/s\u001b[0m eta \u001b[36m0:00:00\u001b[0m\n",
            "\u001b[?25hCollecting huggingface-hub<1.0,>=0.11.0\n",
            "  Downloading huggingface_hub-0.13.3-py3-none-any.whl (199 kB)\n",
            "\u001b[2K     \u001b[90m━━━━━━━━━━━━━━━━━━━━━━━━━━━━━━━━━━━━━━\u001b[0m \u001b[32m199.8/199.8 KB\u001b[0m \u001b[31m24.3 MB/s\u001b[0m eta \u001b[36m0:00:00\u001b[0m\n",
            "\u001b[?25hRequirement already satisfied: numpy>=1.17 in /usr/local/lib/python3.9/dist-packages (from transformers) (1.22.4)\n",
            "Requirement already satisfied: regex!=2019.12.17 in /usr/local/lib/python3.9/dist-packages (from transformers) (2022.10.31)\n",
            "Requirement already satisfied: packaging>=20.0 in /usr/local/lib/python3.9/dist-packages (from transformers) (23.0)\n",
            "Collecting tokenizers!=0.11.3,<0.14,>=0.11.1\n",
            "  Downloading tokenizers-0.13.2-cp39-cp39-manylinux_2_17_x86_64.manylinux2014_x86_64.whl (7.6 MB)\n",
            "\u001b[2K     \u001b[90m━━━━━━━━━━━━━━━━━━━━━━━━━━━━━━━━━━━━━━━━\u001b[0m \u001b[32m7.6/7.6 MB\u001b[0m \u001b[31m100.4 MB/s\u001b[0m eta \u001b[36m0:00:00\u001b[0m\n",
            "\u001b[?25hRequirement already satisfied: tqdm>=4.27 in /usr/local/lib/python3.9/dist-packages (from transformers) (4.65.0)\n",
            "Requirement already satisfied: pyyaml>=5.1 in /usr/local/lib/python3.9/dist-packages (from transformers) (6.0)\n",
            "Requirement already satisfied: filelock in /usr/local/lib/python3.9/dist-packages (from transformers) (3.10.0)\n",
            "Requirement already satisfied: requests in /usr/local/lib/python3.9/dist-packages (from transformers) (2.27.1)\n",
            "Requirement already satisfied: typing-extensions>=3.7.4.3 in /usr/local/lib/python3.9/dist-packages (from huggingface-hub<1.0,>=0.11.0->transformers) (4.5.0)\n",
            "Requirement already satisfied: idna<4,>=2.5 in /usr/local/lib/python3.9/dist-packages (from requests->transformers) (3.4)\n",
            "Requirement already satisfied: charset-normalizer~=2.0.0 in /usr/local/lib/python3.9/dist-packages (from requests->transformers) (2.0.12)\n",
            "Requirement already satisfied: certifi>=2017.4.17 in /usr/local/lib/python3.9/dist-packages (from requests->transformers) (2022.12.7)\n",
            "Requirement already satisfied: urllib3<1.27,>=1.21.1 in /usr/local/lib/python3.9/dist-packages (from requests->transformers) (1.26.15)\n",
            "Installing collected packages: tokenizers, huggingface-hub, transformers\n",
            "Successfully installed huggingface-hub-0.13.3 tokenizers-0.13.2 transformers-4.27.2\n"
          ]
        }
      ],
      "source": [
        "\n",
        "from transformers import ASTForAudioClassification\n",
        "from keras import layers"
      ]
    },
    {
      "cell_type": "code",
      "execution_count": 70,
      "id": "380ee022",
      "metadata": {
        "id": "380ee022"
      },
      "outputs": [],
      "source": [
        "def transformer_encoder(inputs, head_size, num_heads, ff_dim, dropout=0):\n",
        "    # Normalization and Attention\n",
        "    x = layers.LayerNormalization(epsilon=1e-6)(inputs)\n",
        "    x = layers.MultiHeadAttention(\n",
        "        key_dim=head_size, num_heads=num_heads, dropout=dropout\n",
        "    )(x, x)\n",
        "    x = layers.Dropout(dropout)(x)\n",
        "    res = x + inputs\n",
        "\n",
        "    # Feed Forward Part\n",
        "    x = layers.LayerNormalization(epsilon=1e-6)(res)\n",
        "    x = layers.Conv1D(filters=ff_dim, kernel_size=1, activation=\"relu\")(x)\n",
        "    x = layers.Dropout(dropout)(x)\n",
        "    x = layers.Conv1D(filters=inputs.shape[-1], kernel_size=1)(x)\n",
        "    return x + res"
      ]
    },
    {
      "cell_type": "code",
      "execution_count": 71,
      "id": "2c3e0fb3",
      "metadata": {
        "id": "2c3e0fb3"
      },
      "outputs": [],
      "source": [
        "n_classes = 10\n",
        "def build_model(\n",
        "    input_shape,\n",
        "    head_size,\n",
        "    num_heads,\n",
        "    ff_dim,\n",
        "    num_transformer_blocks,\n",
        "    mlp_units,\n",
        "    dropout=0,\n",
        "    mlp_dropout=0,\n",
        "):\n",
        "    inputs = keras.Input(shape=input_shape)\n",
        "    x = inputs\n",
        "    x = layers.Conv1D(filters=32, kernel_size=3, activation=\"relu\", padding='same')(x)\n",
        "    for _ in range(num_transformer_blocks):\n",
        "        x = transformer_encoder(x, head_size, num_heads, ff_dim, dropout)\n",
        "\n",
        "    x = layers.GlobalAveragePooling1D(data_format=\"channels_first\")(x)\n",
        "    for dim in mlp_units:\n",
        "        x = layers.Dense(dim, activation=\"relu\")(x)\n",
        "        x = layers.Dropout(mlp_dropout)(x)\n",
        "    outputs = layers.Dense(n_classes, activation=\"softmax\")(x)\n",
        "    return keras.Model(inputs, outputs)"
      ]
    },
    {
      "cell_type": "code",
      "execution_count": 72,
      "id": "pZlkoxxS4mFg",
      "metadata": {
        "id": "pZlkoxxS4mFg"
      },
      "outputs": [],
      "source": [
        "history_transformer = {}"
      ]
    },
    {
      "cell_type": "code",
      "execution_count": 73,
      "id": "dDHojhXw9beY",
      "metadata": {
        "id": "dDHojhXw9beY"
      },
      "outputs": [],
      "source": [
        "counter = 0"
      ]
    },
    {
      "cell_type": "code",
      "execution_count": 112,
      "id": "1b5cfaa5",
      "metadata": {
        "id": "1b5cfaa5",
        "colab": {
          "base_uri": "https://localhost:8080/"
        },
        "outputId": "92f08bb0-3b46-4ab3-afbb-6b6916595faf"
      },
      "outputs": [
        {
          "output_type": "stream",
          "name": "stdout",
          "text": [
            "Model: \"model_6\"\n",
            "__________________________________________________________________________________________________\n",
            " Layer (type)                   Output Shape         Param #     Connected to                     \n",
            "==================================================================================================\n",
            " input_7 (InputLayer)           [(None, 312, 1)]     0           []                               \n",
            "                                                                                                  \n",
            " conv1d_122 (Conv1D)            (None, 312, 32)      128         ['input_7[0][0]']                \n",
            "                                                                                                  \n",
            " layer_normalization_96 (LayerN  (None, 312, 32)     64          ['conv1d_122[0][0]']             \n",
            " ormalization)                                                                                    \n",
            "                                                                                                  \n",
            " multi_head_attention_48 (Multi  (None, 312, 32)     33568       ['layer_normalization_96[0][0]', \n",
            " HeadAttention)                                                   'layer_normalization_96[0][0]'] \n",
            "                                                                                                  \n",
            " dropout_115 (Dropout)          (None, 312, 32)      0           ['multi_head_attention_48[0][0]']\n",
            "                                                                                                  \n",
            " tf.__operators__.add_96 (TFOpL  (None, 312, 32)     0           ['dropout_115[0][0]',            \n",
            " ambda)                                                           'conv1d_122[0][0]']             \n",
            "                                                                                                  \n",
            " layer_normalization_97 (LayerN  (None, 312, 32)     64          ['tf.__operators__.add_96[0][0]']\n",
            " ormalization)                                                                                    \n",
            "                                                                                                  \n",
            " conv1d_123 (Conv1D)            (None, 312, 4)       132         ['layer_normalization_97[0][0]'] \n",
            "                                                                                                  \n",
            " dropout_116 (Dropout)          (None, 312, 4)       0           ['conv1d_123[0][0]']             \n",
            "                                                                                                  \n",
            " conv1d_124 (Conv1D)            (None, 312, 32)      160         ['dropout_116[0][0]']            \n",
            "                                                                                                  \n",
            " tf.__operators__.add_97 (TFOpL  (None, 312, 32)     0           ['conv1d_124[0][0]',             \n",
            " ambda)                                                           'tf.__operators__.add_96[0][0]']\n",
            "                                                                                                  \n",
            " layer_normalization_98 (LayerN  (None, 312, 32)     64          ['tf.__operators__.add_97[0][0]']\n",
            " ormalization)                                                                                    \n",
            "                                                                                                  \n",
            " multi_head_attention_49 (Multi  (None, 312, 32)     33568       ['layer_normalization_98[0][0]', \n",
            " HeadAttention)                                                   'layer_normalization_98[0][0]'] \n",
            "                                                                                                  \n",
            " dropout_117 (Dropout)          (None, 312, 32)      0           ['multi_head_attention_49[0][0]']\n",
            "                                                                                                  \n",
            " tf.__operators__.add_98 (TFOpL  (None, 312, 32)     0           ['dropout_117[0][0]',            \n",
            " ambda)                                                           'tf.__operators__.add_97[0][0]']\n",
            "                                                                                                  \n",
            " layer_normalization_99 (LayerN  (None, 312, 32)     64          ['tf.__operators__.add_98[0][0]']\n",
            " ormalization)                                                                                    \n",
            "                                                                                                  \n",
            " conv1d_125 (Conv1D)            (None, 312, 4)       132         ['layer_normalization_99[0][0]'] \n",
            "                                                                                                  \n",
            " dropout_118 (Dropout)          (None, 312, 4)       0           ['conv1d_125[0][0]']             \n",
            "                                                                                                  \n",
            " conv1d_126 (Conv1D)            (None, 312, 32)      160         ['dropout_118[0][0]']            \n",
            "                                                                                                  \n",
            " tf.__operators__.add_99 (TFOpL  (None, 312, 32)     0           ['conv1d_126[0][0]',             \n",
            " ambda)                                                           'tf.__operators__.add_98[0][0]']\n",
            "                                                                                                  \n",
            " layer_normalization_100 (Layer  (None, 312, 32)     64          ['tf.__operators__.add_99[0][0]']\n",
            " Normalization)                                                                                   \n",
            "                                                                                                  \n",
            " multi_head_attention_50 (Multi  (None, 312, 32)     33568       ['layer_normalization_100[0][0]',\n",
            " HeadAttention)                                                   'layer_normalization_100[0][0]']\n",
            "                                                                                                  \n",
            " dropout_119 (Dropout)          (None, 312, 32)      0           ['multi_head_attention_50[0][0]']\n",
            "                                                                                                  \n",
            " tf.__operators__.add_100 (TFOp  (None, 312, 32)     0           ['dropout_119[0][0]',            \n",
            " Lambda)                                                          'tf.__operators__.add_99[0][0]']\n",
            "                                                                                                  \n",
            " layer_normalization_101 (Layer  (None, 312, 32)     64          ['tf.__operators__.add_100[0][0]'\n",
            " Normalization)                                                  ]                                \n",
            "                                                                                                  \n",
            " conv1d_127 (Conv1D)            (None, 312, 4)       132         ['layer_normalization_101[0][0]']\n",
            "                                                                                                  \n",
            " dropout_120 (Dropout)          (None, 312, 4)       0           ['conv1d_127[0][0]']             \n",
            "                                                                                                  \n",
            " conv1d_128 (Conv1D)            (None, 312, 32)      160         ['dropout_120[0][0]']            \n",
            "                                                                                                  \n",
            " tf.__operators__.add_101 (TFOp  (None, 312, 32)     0           ['conv1d_128[0][0]',             \n",
            " Lambda)                                                          'tf.__operators__.add_100[0][0]'\n",
            "                                                                 ]                                \n",
            "                                                                                                  \n",
            " layer_normalization_102 (Layer  (None, 312, 32)     64          ['tf.__operators__.add_101[0][0]'\n",
            " Normalization)                                                  ]                                \n",
            "                                                                                                  \n",
            " multi_head_attention_51 (Multi  (None, 312, 32)     33568       ['layer_normalization_102[0][0]',\n",
            " HeadAttention)                                                   'layer_normalization_102[0][0]']\n",
            "                                                                                                  \n",
            " dropout_121 (Dropout)          (None, 312, 32)      0           ['multi_head_attention_51[0][0]']\n",
            "                                                                                                  \n",
            " tf.__operators__.add_102 (TFOp  (None, 312, 32)     0           ['dropout_121[0][0]',            \n",
            " Lambda)                                                          'tf.__operators__.add_101[0][0]'\n",
            "                                                                 ]                                \n",
            "                                                                                                  \n",
            " layer_normalization_103 (Layer  (None, 312, 32)     64          ['tf.__operators__.add_102[0][0]'\n",
            " Normalization)                                                  ]                                \n",
            "                                                                                                  \n",
            " conv1d_129 (Conv1D)            (None, 312, 4)       132         ['layer_normalization_103[0][0]']\n",
            "                                                                                                  \n",
            " dropout_122 (Dropout)          (None, 312, 4)       0           ['conv1d_129[0][0]']             \n",
            "                                                                                                  \n",
            " conv1d_130 (Conv1D)            (None, 312, 32)      160         ['dropout_122[0][0]']            \n",
            "                                                                                                  \n",
            " tf.__operators__.add_103 (TFOp  (None, 312, 32)     0           ['conv1d_130[0][0]',             \n",
            " Lambda)                                                          'tf.__operators__.add_102[0][0]'\n",
            "                                                                 ]                                \n",
            "                                                                                                  \n",
            " layer_normalization_104 (Layer  (None, 312, 32)     64          ['tf.__operators__.add_103[0][0]'\n",
            " Normalization)                                                  ]                                \n",
            "                                                                                                  \n",
            " multi_head_attention_52 (Multi  (None, 312, 32)     33568       ['layer_normalization_104[0][0]',\n",
            " HeadAttention)                                                   'layer_normalization_104[0][0]']\n",
            "                                                                                                  \n",
            " dropout_123 (Dropout)          (None, 312, 32)      0           ['multi_head_attention_52[0][0]']\n",
            "                                                                                                  \n",
            " tf.__operators__.add_104 (TFOp  (None, 312, 32)     0           ['dropout_123[0][0]',            \n",
            " Lambda)                                                          'tf.__operators__.add_103[0][0]'\n",
            "                                                                 ]                                \n",
            "                                                                                                  \n",
            " layer_normalization_105 (Layer  (None, 312, 32)     64          ['tf.__operators__.add_104[0][0]'\n",
            " Normalization)                                                  ]                                \n",
            "                                                                                                  \n",
            " conv1d_131 (Conv1D)            (None, 312, 4)       132         ['layer_normalization_105[0][0]']\n",
            "                                                                                                  \n",
            " dropout_124 (Dropout)          (None, 312, 4)       0           ['conv1d_131[0][0]']             \n",
            "                                                                                                  \n",
            " conv1d_132 (Conv1D)            (None, 312, 32)      160         ['dropout_124[0][0]']            \n",
            "                                                                                                  \n",
            " tf.__operators__.add_105 (TFOp  (None, 312, 32)     0           ['conv1d_132[0][0]',             \n",
            " Lambda)                                                          'tf.__operators__.add_104[0][0]'\n",
            "                                                                 ]                                \n",
            "                                                                                                  \n",
            " layer_normalization_106 (Layer  (None, 312, 32)     64          ['tf.__operators__.add_105[0][0]'\n",
            " Normalization)                                                  ]                                \n",
            "                                                                                                  \n",
            " multi_head_attention_53 (Multi  (None, 312, 32)     33568       ['layer_normalization_106[0][0]',\n",
            " HeadAttention)                                                   'layer_normalization_106[0][0]']\n",
            "                                                                                                  \n",
            " dropout_125 (Dropout)          (None, 312, 32)      0           ['multi_head_attention_53[0][0]']\n",
            "                                                                                                  \n",
            " tf.__operators__.add_106 (TFOp  (None, 312, 32)     0           ['dropout_125[0][0]',            \n",
            " Lambda)                                                          'tf.__operators__.add_105[0][0]'\n",
            "                                                                 ]                                \n",
            "                                                                                                  \n",
            " layer_normalization_107 (Layer  (None, 312, 32)     64          ['tf.__operators__.add_106[0][0]'\n",
            " Normalization)                                                  ]                                \n",
            "                                                                                                  \n",
            " conv1d_133 (Conv1D)            (None, 312, 4)       132         ['layer_normalization_107[0][0]']\n",
            "                                                                                                  \n",
            " dropout_126 (Dropout)          (None, 312, 4)       0           ['conv1d_133[0][0]']             \n",
            "                                                                                                  \n",
            " conv1d_134 (Conv1D)            (None, 312, 32)      160         ['dropout_126[0][0]']            \n",
            "                                                                                                  \n",
            " tf.__operators__.add_107 (TFOp  (None, 312, 32)     0           ['conv1d_134[0][0]',             \n",
            " Lambda)                                                          'tf.__operators__.add_106[0][0]'\n",
            "                                                                 ]                                \n",
            "                                                                                                  \n",
            " layer_normalization_108 (Layer  (None, 312, 32)     64          ['tf.__operators__.add_107[0][0]'\n",
            " Normalization)                                                  ]                                \n",
            "                                                                                                  \n",
            " multi_head_attention_54 (Multi  (None, 312, 32)     33568       ['layer_normalization_108[0][0]',\n",
            " HeadAttention)                                                   'layer_normalization_108[0][0]']\n",
            "                                                                                                  \n",
            " dropout_127 (Dropout)          (None, 312, 32)      0           ['multi_head_attention_54[0][0]']\n",
            "                                                                                                  \n",
            " tf.__operators__.add_108 (TFOp  (None, 312, 32)     0           ['dropout_127[0][0]',            \n",
            " Lambda)                                                          'tf.__operators__.add_107[0][0]'\n",
            "                                                                 ]                                \n",
            "                                                                                                  \n",
            " layer_normalization_109 (Layer  (None, 312, 32)     64          ['tf.__operators__.add_108[0][0]'\n",
            " Normalization)                                                  ]                                \n",
            "                                                                                                  \n",
            " conv1d_135 (Conv1D)            (None, 312, 4)       132         ['layer_normalization_109[0][0]']\n",
            "                                                                                                  \n",
            " dropout_128 (Dropout)          (None, 312, 4)       0           ['conv1d_135[0][0]']             \n",
            "                                                                                                  \n",
            " conv1d_136 (Conv1D)            (None, 312, 32)      160         ['dropout_128[0][0]']            \n",
            "                                                                                                  \n",
            " tf.__operators__.add_109 (TFOp  (None, 312, 32)     0           ['conv1d_136[0][0]',             \n",
            " Lambda)                                                          'tf.__operators__.add_108[0][0]'\n",
            "                                                                 ]                                \n",
            "                                                                                                  \n",
            " layer_normalization_110 (Layer  (None, 312, 32)     64          ['tf.__operators__.add_109[0][0]'\n",
            " Normalization)                                                  ]                                \n",
            "                                                                                                  \n",
            " multi_head_attention_55 (Multi  (None, 312, 32)     33568       ['layer_normalization_110[0][0]',\n",
            " HeadAttention)                                                   'layer_normalization_110[0][0]']\n",
            "                                                                                                  \n",
            " dropout_129 (Dropout)          (None, 312, 32)      0           ['multi_head_attention_55[0][0]']\n",
            "                                                                                                  \n",
            " tf.__operators__.add_110 (TFOp  (None, 312, 32)     0           ['dropout_129[0][0]',            \n",
            " Lambda)                                                          'tf.__operators__.add_109[0][0]'\n",
            "                                                                 ]                                \n",
            "                                                                                                  \n",
            " layer_normalization_111 (Layer  (None, 312, 32)     64          ['tf.__operators__.add_110[0][0]'\n",
            " Normalization)                                                  ]                                \n",
            "                                                                                                  \n",
            " conv1d_137 (Conv1D)            (None, 312, 4)       132         ['layer_normalization_111[0][0]']\n",
            "                                                                                                  \n",
            " dropout_130 (Dropout)          (None, 312, 4)       0           ['conv1d_137[0][0]']             \n",
            "                                                                                                  \n",
            " conv1d_138 (Conv1D)            (None, 312, 32)      160         ['dropout_130[0][0]']            \n",
            "                                                                                                  \n",
            " tf.__operators__.add_111 (TFOp  (None, 312, 32)     0           ['conv1d_138[0][0]',             \n",
            " Lambda)                                                          'tf.__operators__.add_110[0][0]'\n",
            "                                                                 ]                                \n",
            "                                                                                                  \n",
            " global_average_pooling1d_6 (Gl  (None, 312)         0           ['tf.__operators__.add_111[0][0]'\n",
            " obalAveragePooling1D)                                           ]                                \n",
            "                                                                                                  \n",
            " dense_34 (Dense)               (None, 64)           20032       ['global_average_pooling1d_6[0][0\n",
            "                                                                 ]']                              \n",
            "                                                                                                  \n",
            " dropout_131 (Dropout)          (None, 64)           0           ['dense_34[0][0]']               \n",
            "                                                                                                  \n",
            " dense_35 (Dense)               (None, 10)           650         ['dropout_131[0][0]']            \n",
            "                                                                                                  \n",
            "==================================================================================================\n",
            "Total params: 292,714\n",
            "Trainable params: 292,714\n",
            "Non-trainable params: 0\n",
            "__________________________________________________________________________________________________\n",
            "Epoch 1/35\n",
            "32/32 [==============================] - 22s 371ms/step - loss: 2.2435 - acc: 0.1720 - val_loss: 2.3671 - val_acc: 0.1610\n",
            "Epoch 2/35\n",
            "32/32 [==============================] - 11s 346ms/step - loss: 1.9870 - acc: 0.3030 - val_loss: 2.4071 - val_acc: 0.2354\n",
            "Epoch 3/35\n",
            "32/32 [==============================] - 11s 350ms/step - loss: 1.4250 - acc: 0.5435 - val_loss: 2.3412 - val_acc: 0.3843\n",
            "Epoch 4/35\n",
            "32/32 [==============================] - 12s 362ms/step - loss: 0.8764 - acc: 0.7225 - val_loss: 2.3086 - val_acc: 0.4266\n",
            "Epoch 5/35\n",
            "32/32 [==============================] - 11s 360ms/step - loss: 0.6693 - acc: 0.7990 - val_loss: 2.5403 - val_acc: 0.4728\n",
            "Epoch 6/35\n",
            "32/32 [==============================] - 11s 359ms/step - loss: 0.5699 - acc: 0.8250 - val_loss: 2.5312 - val_acc: 0.5070\n",
            "Epoch 7/35\n",
            "32/32 [==============================] - 11s 344ms/step - loss: 0.4892 - acc: 0.8525 - val_loss: 2.5441 - val_acc: 0.4728\n",
            "Epoch 8/35\n",
            "32/32 [==============================] - 11s 344ms/step - loss: 0.4087 - acc: 0.8765 - val_loss: 3.1441 - val_acc: 0.4728\n",
            "Epoch 9/35\n",
            "32/32 [==============================] - 11s 345ms/step - loss: 0.3603 - acc: 0.8850 - val_loss: 3.1821 - val_acc: 0.4567\n",
            "Epoch 10/35\n",
            "32/32 [==============================] - 11s 345ms/step - loss: 0.3174 - acc: 0.9060 - val_loss: 2.8843 - val_acc: 0.4970\n",
            "Epoch 11/35\n",
            "32/32 [==============================] - 12s 361ms/step - loss: 0.2980 - acc: 0.9105 - val_loss: 2.7732 - val_acc: 0.5191\n",
            "Epoch 12/35\n",
            "32/32 [==============================] - 11s 345ms/step - loss: 0.2673 - acc: 0.9205 - val_loss: 2.8256 - val_acc: 0.5433\n",
            "Epoch 13/35\n",
            "32/32 [==============================] - 11s 344ms/step - loss: 0.2530 - acc: 0.9215 - val_loss: 3.0322 - val_acc: 0.5312\n",
            "Epoch 14/35\n",
            "32/32 [==============================] - 11s 360ms/step - loss: 0.1933 - acc: 0.9420 - val_loss: 3.8725 - val_acc: 0.4950\n",
            "Epoch 15/35\n",
            "32/32 [==============================] - 12s 362ms/step - loss: 0.1868 - acc: 0.9405 - val_loss: 3.8303 - val_acc: 0.4990\n",
            "Epoch 16/35\n",
            "32/32 [==============================] - 11s 343ms/step - loss: 0.2028 - acc: 0.9265 - val_loss: 3.9353 - val_acc: 0.4748\n",
            "Epoch 17/35\n",
            "32/32 [==============================] - 11s 360ms/step - loss: 0.1707 - acc: 0.9415 - val_loss: 3.3773 - val_acc: 0.5412\n",
            "Epoch 18/35\n",
            "32/32 [==============================] - 11s 345ms/step - loss: 0.1455 - acc: 0.9490 - val_loss: 3.9279 - val_acc: 0.5252\n",
            "Epoch 19/35\n",
            "32/32 [==============================] - 11s 360ms/step - loss: 0.1556 - acc: 0.9545 - val_loss: 3.5027 - val_acc: 0.5211\n",
            "Epoch 20/35\n",
            "32/32 [==============================] - 12s 362ms/step - loss: 0.1424 - acc: 0.9545 - val_loss: 4.4823 - val_acc: 0.5050\n",
            "Epoch 21/35\n",
            "32/32 [==============================] - 11s 344ms/step - loss: 0.1221 - acc: 0.9600 - val_loss: 3.7040 - val_acc: 0.5211\n",
            "Epoch 22/35\n",
            "32/32 [==============================] - 11s 343ms/step - loss: 0.1274 - acc: 0.9565 - val_loss: 4.3226 - val_acc: 0.5030\n",
            "Epoch 23/35\n",
            "32/32 [==============================] - 11s 344ms/step - loss: 0.1141 - acc: 0.9600 - val_loss: 4.0881 - val_acc: 0.4930\n",
            "Epoch 24/35\n",
            "32/32 [==============================] - 12s 361ms/step - loss: 0.1064 - acc: 0.9670 - val_loss: 3.9873 - val_acc: 0.5252\n",
            "Epoch 25/35\n",
            "32/32 [==============================] - 11s 344ms/step - loss: 0.1036 - acc: 0.9635 - val_loss: 4.9342 - val_acc: 0.4950\n",
            "Epoch 26/35\n",
            "32/32 [==============================] - 11s 343ms/step - loss: 0.1405 - acc: 0.9590 - val_loss: 4.1401 - val_acc: 0.4809\n",
            "Epoch 27/35\n",
            "32/32 [==============================] - 11s 360ms/step - loss: 0.0978 - acc: 0.9665 - val_loss: 5.2139 - val_acc: 0.4748\n",
            "Epoch 28/35\n",
            "32/32 [==============================] - 11s 359ms/step - loss: 0.1014 - acc: 0.9660 - val_loss: 3.8610 - val_acc: 0.5191\n",
            "Epoch 29/35\n",
            "32/32 [==============================] - 11s 359ms/step - loss: 0.1011 - acc: 0.9655 - val_loss: 3.9075 - val_acc: 0.5151\n",
            "Epoch 30/35\n",
            "32/32 [==============================] - 11s 361ms/step - loss: 0.0805 - acc: 0.9720 - val_loss: 4.9807 - val_acc: 0.5131\n",
            "Epoch 31/35\n",
            "32/32 [==============================] - 11s 342ms/step - loss: 0.0875 - acc: 0.9670 - val_loss: 4.0925 - val_acc: 0.5151\n",
            "Epoch 32/35\n",
            "32/32 [==============================] - 11s 359ms/step - loss: 0.0777 - acc: 0.9750 - val_loss: 3.9426 - val_acc: 0.5070\n",
            "Epoch 33/35\n",
            "32/32 [==============================] - 11s 361ms/step - loss: 0.0745 - acc: 0.9765 - val_loss: 4.5235 - val_acc: 0.4930\n",
            "Epoch 34/35\n",
            "32/32 [==============================] - 11s 361ms/step - loss: 0.0711 - acc: 0.9765 - val_loss: 4.8992 - val_acc: 0.5231\n",
            "Epoch 35/35\n",
            "32/32 [==============================] - 11s 344ms/step - loss: 0.0606 - acc: 0.9790 - val_loss: 5.2462 - val_acc: 0.5211\n",
            "[5.018584728240967, 0.544731616973877]\n"
          ]
        }
      ],
      "source": [
        "X_test = X_test.reshape(X_test.shape[0],X_test.shape[1],1)\n",
        "input_shape = X_train.shape[1:]\n",
        "\n",
        "head_size = 32\n",
        "num_heads = 8\n",
        "num_transformer_blocks = 8\n",
        "mlp_units = [64]\n",
        "mlp_dropout = 0.2\n",
        "dropout = 0.2\n",
        "epochs = 35\n",
        "lr = 5e-4\n",
        "patience = 10\n",
        "\n",
        "\n",
        "model = build_model(\n",
        "    input_shape,\n",
        "    head_size=head_size,\n",
        "    num_heads=num_heads,\n",
        "    ff_dim=4,\n",
        "    num_transformer_blocks=num_transformer_blocks,\n",
        "    mlp_units=mlp_units,\n",
        "    mlp_dropout=mlp_dropout,\n",
        "    dropout=dropout,\n",
        ")\n",
        "\n",
        "model.compile(\n",
        "    loss=\"categorical_crossentropy\",\n",
        "    optimizer=keras.optimizers.Adam(learning_rate=lr),\n",
        "    metrics=[\"acc\"],\n",
        ")\n",
        "model.summary()\n",
        "model_json = model.to_json()\n",
        "\n",
        "callbacks = [keras.callbacks.EarlyStopping(monitor='loss', patience=patience, restore_best_weights=True)]\n",
        "\n",
        "history = model.fit(\n",
        "    X_train,\n",
        "    encoded_train,\n",
        "    validation_data=(X_dev, encoded_dev),\n",
        "    epochs=epochs,\n",
        "    batch_size=64,\n",
        "    callbacks=callbacks,\n",
        ")\n",
        "\n",
        "evaluation = model.evaluate(X_test, encoded_test, verbose=0)\n",
        "print(evaluation)\n",
        "values = {\n",
        "  'head_size': head_size,\n",
        "  'num_heads': num_heads,\n",
        "  'num_transformer_blocks': num_transformer_blocks,\n",
        "  'mlp_units': mlp_units,\n",
        "  'mlp_dropout': mlp_dropout,\n",
        "  'dropout': dropout,\n",
        "  'epochs': epochs,\n",
        "  'lr': lr,\n",
        "  'batch_size': 64,\n",
        "  'patience': 5\n",
        "}\n",
        "counter += 1\n",
        "history_transformer['model' + str(counter)] = {\n",
        "  'values': values,\n",
        "  'evaluation': evaluation,\n",
        "  'model_json': model_json,\n",
        "}"
      ]
    },
    {
      "cell_type": "code",
      "source": [
        "history_dict=history.history\n",
        "loss_values=history_dict['loss']\n",
        "acc_values=history_dict['acc']\n",
        "val_loss_values = history_dict['val_loss']\n",
        "val_acc_values=history_dict['val_acc']\n",
        "epoch=range(1,epochs + 1) # need an x-axis\n",
        "fig,(ax1,ax2)=plt.subplots(1,2,figsize=(15,5))\n",
        "ax1.plot(epoch,loss_values,'co',label='Training Loss')\n",
        "ax1.plot(epoch,val_loss_values,'m', label='Validation Loss')\n",
        "ax1.set_title('Training and validation loss')\n",
        "ax1.set_xlabel('Epochs')\n",
        "ax1.set_ylabel('Loss')\n",
        "ax1.legend()\n",
        "ax2.plot(epoch,acc_values,'co', label='Training accuracy')\n",
        "ax2.plot(epoch,val_acc_values,'m',label='Validation accuracy')\n",
        "ax2.set_title('Training and validation accuracy')\n",
        "ax2.set_xlabel('Epochs')\n",
        "ax2.set_ylabel('Accuracy')\n",
        "ax2.legend()\n",
        "plt.show()"
      ],
      "metadata": {
        "colab": {
          "base_uri": "https://localhost:8080/",
          "height": 350
        },
        "id": "MLRhQpS0CwlB",
        "outputId": "9154d5c7-7b4e-4e79-e73c-2ad74841f845"
      },
      "id": "MLRhQpS0CwlB",
      "execution_count": 113,
      "outputs": [
        {
          "output_type": "display_data",
          "data": {
            "text/plain": [
              "<Figure size 1080x360 with 2 Axes>"
            ],
            "image/png": "[encoded data removed]"
          },
          "metadata": {
            "needs_background": "light"
          }
        }
      ]
    },
    {
      "cell_type": "code",
      "execution_count": null,
      "id": "f990ac14",
      "metadata": {
        "id": "f990ac14"
      },
      "outputs": [],
      "source": [
        "len(history_transformer)"
      ]
    },
    {
      "cell_type": "code",
      "execution_count": null,
      "id": "hW2Qp6IDATEu",
      "metadata": {
        "colab": {
          "base_uri": "https://localhost:8080/",
          "height": 215
        },
        "id": "hW2Qp6IDATEu",
        "outputId": "65ab0367-74db-4336-cef0-a4f4caaa081a"
      },
      "outputs": [
        {
          "ename": "NameError",
          "evalue": "ignored",
          "output_type": "error",
          "traceback": [
            "\u001b[0;31m---------------------------------------------------------------------------\u001b[0m",
            "\u001b[0;31mNameError\u001b[0m                                 Traceback (most recent call last)",
            "\u001b[0;32m<ipython-input-2-4c976d948fd0>\u001b[0m in \u001b[0;36m<module>\u001b[0;34m\u001b[0m\n\u001b[1;32m      2\u001b[0m \u001b[0;32mimport\u001b[0m \u001b[0mjson\u001b[0m\u001b[0;34m\u001b[0m\u001b[0;34m\u001b[0m\u001b[0m\n\u001b[1;32m      3\u001b[0m \u001b[0;32mwith\u001b[0m \u001b[0mopen\u001b[0m\u001b[0;34m(\u001b[0m\u001b[0;34m'data.json'\u001b[0m\u001b[0;34m,\u001b[0m \u001b[0;34m'w'\u001b[0m\u001b[0;34m)\u001b[0m \u001b[0;32mas\u001b[0m \u001b[0mfp\u001b[0m\u001b[0;34m:\u001b[0m\u001b[0;34m\u001b[0m\u001b[0;34m\u001b[0m\u001b[0m\n\u001b[0;32m----> 4\u001b[0;31m     \u001b[0mjson\u001b[0m\u001b[0;34m.\u001b[0m\u001b[0mdump\u001b[0m\u001b[0;34m(\u001b[0m\u001b[0mhistory_transformer\u001b[0m\u001b[0;34m,\u001b[0m \u001b[0mfp\u001b[0m\u001b[0;34m,\u001b[0m \u001b[0msort_keys\u001b[0m\u001b[0;34m=\u001b[0m\u001b[0;32mTrue\u001b[0m\u001b[0;34m,\u001b[0m \u001b[0mindent\u001b[0m\u001b[0;34m=\u001b[0m\u001b[0;36m4\u001b[0m\u001b[0;34m)\u001b[0m\u001b[0;34m\u001b[0m\u001b[0;34m\u001b[0m\u001b[0m\n\u001b[0m\u001b[1;32m      5\u001b[0m \u001b[0mfiles\u001b[0m\u001b[0;34m.\u001b[0m\u001b[0mdownload\u001b[0m\u001b[0;34m(\u001b[0m\u001b[0;34m'data.json'\u001b[0m\u001b[0;34m)\u001b[0m\u001b[0;34m\u001b[0m\u001b[0;34m\u001b[0m\u001b[0m\n",
            "\u001b[0;31mNameError\u001b[0m: name 'history_transformer' is not defined"
          ]
        }
      ],
      "source": [
        "from google.colab import files\n",
        "import json\n",
        "with open('data.json', 'w') as fp:\n",
        "    json.dump(history_transformer, fp, sort_keys=True, indent=4)\n",
        "files.download('data.json')"
      ]
    },
    {
      "cell_type": "markdown",
      "id": "8f95e312",
      "metadata": {
        "id": "8f95e312"
      },
      "source": [
        "## Task III (Open Ended)\n",
        "1. Consider the case where we have speech data from a single speaker (e.g., george). Train your models on this subset of the data. What do you observe? How does this affect the model performance? \n",
        "\n",
        "2. Even though a model is trained on a single speaker, we would like the model to generalizes to any speaker. To this end, one can use data augmentation techniques to artificially create more samples for each class. Some of these augmentations can be applied on the spectrogram (e.g., SpecAugment https://ai.googleblog.com/2019/04/specaugment-new-data-augmentation.html), and other can be applied on the raw waveform before creating the spectrogram such as pitch manipulation (https://github.com/facebookresearch/WavAugment). Explore the effect of one type of augmentation from each type. Report your observation and anaylze the confusion matrices.\n",
        "\n",
        "3. Data augmentation techniques create different \"views\" of each training sample in a stochastic or determinstic approach. One can leaverage speech data augmentation to create views for training a neural network in a contrastive learning setting with margin-based objective function (for more info, read http://proceedings.mlr.press/v130/al-tahan21a/al-tahan21a.pdf). Implement at least one model using a contrastive loss based on different views of the training samples. Does this model improve over the model without contrastive learning? Report and discuss your observations. \n",
        "\n",
        "For more information on the contrastive learning framework, you can refer to this paper\n",
        "https://ieeexplore.ieee.org/stamp/stamp.jsp?arnumber=9226466"
      ]
    },
    {
      "cell_type": "markdown",
      "id": "qIWC9olXef7D",
      "metadata": {
        "id": "qIWC9olXef7D"
      },
      "source": [
        "Needs the raw data, not downsampled. After they're augmented then we'll downsample them."
      ]
    },
    {
      "cell_type": "code",
      "execution_count": null,
      "id": "33674cd9",
      "metadata": {
        "id": "33674cd9"
      },
      "outputs": [],
      "source": [
        "import random\n",
        "import torchaudio\n",
        "import math\n",
        "import os\n",
        "import pathlib\n",
        "import torch"
      ]
    },
    {
      "cell_type": "code",
      "execution_count": null,
      "id": "34c37dff",
      "metadata": {
        "id": "34c37dff"
      },
      "outputs": [],
      "source": [
        "class RandomClip:\n",
        "    def __init__(self, sample_rate, clip_length):\n",
        "        self.clip_length = clip_length\n",
        "        self.vad = torchaudio.transforms.Vad(\n",
        "            sample_rate=sample_rate, trigger_level=7.0)\n",
        "\n",
        "    def __call__(self, audio_data):\n",
        "        audio_length = audio_data.shape[0]\n",
        "        if audio_length > self.clip_length:\n",
        "            offset = random.randint(0, audio_length-self.clip_length)\n",
        "            audio_data = audio_data[offset:(offset+self.clip_length)]\n",
        "\n",
        "        # remove silences at the beggining/end\n",
        "        return self.vad(audio_data) \n",
        "\n",
        "# clip_transform = RandomClip(SAMPLING_RATE, 1000*len(x)) # 8 seconds clip\n",
        "# transformed_audio = clip_transform(sdr_df[sdr_df['file'] == sample_wav_file]['file'])"
      ]
    },
    {
      "cell_type": "code",
      "execution_count": null,
      "id": "MIQ8B6ObsKeO",
      "metadata": {
        "id": "MIQ8B6ObsKeO"
      },
      "outputs": [],
      "source": [
        "class RandomSpeedChange:\n",
        "    def __init__(self, sample_rate):\n",
        "        self.sample_rate = sample_rate\n",
        "\n",
        "    def __call__(self, audio_data):\n",
        "        speed_factor = random.choice([0.9, 1.0, 1.1])\n",
        "        if speed_factor == 1.0: # no change\n",
        "            return audio_data\n",
        "\n",
        "        # change speed and resample to original rate:\n",
        "        sox_effects = [\n",
        "            [\"speed\", str(speed_factor)],\n",
        "            [\"rate\", str(self.sample_rate)],\n",
        "        ]\n",
        "        transformed_audio, _ = torchaudio.sox_effects.apply_effects_tensor(\n",
        "            audio_data, self.sample_rate, sox_effects)\n",
        "        return transformed_audio"
      ]
    },
    {
      "cell_type": "code",
      "execution_count": null,
      "id": "0zaUmch3ufzP",
      "metadata": {
        "id": "0zaUmch3ufzP"
      },
      "outputs": [],
      "source": [
        "class ComposeTransform:\n",
        "    def __init__(self, transforms):\n",
        "        self.transforms = transforms\n",
        "\n",
        "    def __call__(self, audio_data):\n",
        "        for t in self.transforms:\n",
        "            audio_data = t(audio_data)\n",
        "        return audio_data\n",
        "\n",
        "compose_transform = ComposeTransform([\n",
        "    RandomClip(sample_rate=SAMPLING_RATE, clip_length=3428),\n",
        "    RandomSpeedChange(SAMPLING_RATE)])"
      ]
    },
    {
      "cell_type": "code",
      "execution_count": null,
      "id": "BmiVrwnVsPQP",
      "metadata": {
        "id": "BmiVrwnVsPQP"
      },
      "outputs": [],
      "source": [
        "def add_white_noise(audio, var=1):\n",
        "  white_noise = torch.zeros(audio.shape)\n",
        "  white_noise = white_noise + (var**0.5)*torch.randn(audio.shape)\n",
        "  return audio + white_noise\n",
        "      "
      ]
    },
    {
      "cell_type": "code",
      "execution_count": null,
      "id": "1PnxRuWT19ka",
      "metadata": {
        "id": "1PnxRuWT19ka"
      },
      "outputs": [],
      "source": [
        "X_train_augmented = []\n",
        "X_dev_augmented = []\n",
        "X_test_augmented = []\n",
        "\n",
        "y_train_augmented = []\n",
        "y_dev_augmented = []\n",
        "y_test_augmented = []\n",
        "\n",
        "def augment_data(sdr_df, N=24):\n",
        "    for index, row in sdr_df.iterrows():\n",
        "        sample_wav_file = row[\"file\"]\n",
        "        x, sr = librosa.load(path + sample_wav_file, sr=SAMPLING_RATE)\n",
        "        \n",
        "        audio_file, sample_rate = torchaudio.load(path + sample_wav_file)\n",
        "        \n",
        "        clip_length = len(x)\n",
        "\n",
        "        transformed_audio = compose_transform(audio_file)\n",
        "        add_white_noise(transformed_audio)\n",
        "\n",
        "        melspectrogram = extract_melspectrogram(x, sr, num_mels=13)\n",
        "        \n",
        "        downsample = downsample_spectrogram(melspectrogram, N)\n",
        "        label = row[\"label\"]\n",
        "        split = row[\"split\"]\n",
        "        \n",
        "        if split == \"TRAIN\":\n",
        "            X_train_augmented.append(downsample)\n",
        "            y_train_augmented.append(label)\n",
        "        \n",
        "        if split == \"DEV\":\n",
        "            X_dev_augmented.append(downsample)\n",
        "            y_dev_augmented.append(label)\n",
        "            \n",
        "        if split == \"TEST\":\n",
        "            X_test_augmented.append(downsample)\n",
        "            y_test_augmented.append(label)"
      ]
    },
    {
      "cell_type": "code",
      "execution_count": null,
      "id": "Hy2V8-qe3oF5",
      "metadata": {
        "id": "Hy2V8-qe3oF5"
      },
      "outputs": [],
      "source": [
        "augment_data(sdr_df.head(100))"
      ]
    },
    {
      "cell_type": "code",
      "execution_count": null,
      "id": "RaB6mzs33z9A",
      "metadata": {
        "id": "RaB6mzs33z9A"
      },
      "outputs": [],
      "source": [
        "X_train_augmented = np.array(X_train_augmented)"
      ]
    },
    {
      "cell_type": "code",
      "execution_count": null,
      "id": "CyEYweR74UoY",
      "metadata": {
        "colab": {
          "base_uri": "https://localhost:8080/"
        },
        "id": "CyEYweR74UoY",
        "outputId": "83ed6cd2-ea25-4045-f6a0-83e79bf20cee"
      },
      "outputs": [
        {
          "data": {
            "text/plain": [
              "(65, 312)"
            ]
          },
          "execution_count": 66,
          "metadata": {},
          "output_type": "execute_result"
        }
      ],
      "source": [
        "X_train_augmented.shape"
      ]
    }
  ],
  "metadata": {
    "accelerator": "GPU",
    "colab": {
      "provenance": []
    },
    "gpuClass": "standard",
    "kernelspec": {
      "display_name": "Python 3 (ipykernel)",
      "language": "python",
      "name": "python3"
    },
    "language_info": {
      "codemirror_mode": {
        "name": "ipython",
        "version": 3
      },
      "file_extension": ".py",
      "mimetype": "text/x-python",
      "name": "python",
      "nbconvert_exporter": "python",
      "pygments_lexer": "ipython3",
      "version": "3.10.9"
    }
  },
  "nbformat": 4,
  "nbformat_minor": 5
}